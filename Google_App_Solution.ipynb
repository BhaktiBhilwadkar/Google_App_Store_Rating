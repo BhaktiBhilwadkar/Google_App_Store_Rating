{
 "cells": [
  {
   "cell_type": "markdown",
   "id": "680fa2d4",
   "metadata": {},
   "source": [
    "# PART I:-  \"EDA & Data Preprocessing on Google App Store Rating Dataset.\""
   ]
  },
  {
   "cell_type": "markdown",
   "id": "971201b2",
   "metadata": {},
   "source": [
    "### 1. Import required libraries and read the dataset."
   ]
  },
  {
   "cell_type": "code",
   "execution_count": 190,
   "id": "15929bac",
   "metadata": {},
   "outputs": [],
   "source": [
    "# Importing required libraries for handling the dataset\n",
    "\n",
    "import numpy as np\n",
    "import pandas as pd\n",
    "\n",
    "import matplotlib.pyplot as plt\n",
    "import seaborn as sns\n",
    "import plotly.express as px\n",
    "\n",
    "from sklearn.preprocessing import LabelEncoder\n",
    "from sklearn.model_selection import train_test_split\n",
    "from sklearn.preprocessing import StandardScaler\n",
    "\n",
    "import warnings\n",
    "warnings.filterwarnings('ignore')"
   ]
  },
  {
   "cell_type": "code",
   "execution_count": 107,
   "id": "432f8822",
   "metadata": {},
   "outputs": [],
   "source": [
    "# Reading the given dataset\n",
    "\n",
    "ps_data = pd.read_csv('Apps_data+(1).csv')"
   ]
  },
  {
   "cell_type": "markdown",
   "id": "477ff95f",
   "metadata": {},
   "source": [
    "### 2. Check the first few samples, shape, info of the data and try to familiarize yourself with different features."
   ]
  },
  {
   "cell_type": "code",
   "execution_count": 108,
   "id": "3afc0fc4",
   "metadata": {},
   "outputs": [
    {
     "data": {
      "text/html": [
       "<div>\n",
       "<style scoped>\n",
       "    .dataframe tbody tr th:only-of-type {\n",
       "        vertical-align: middle;\n",
       "    }\n",
       "\n",
       "    .dataframe tbody tr th {\n",
       "        vertical-align: top;\n",
       "    }\n",
       "\n",
       "    .dataframe thead th {\n",
       "        text-align: right;\n",
       "    }\n",
       "</style>\n",
       "<table border=\"1\" class=\"dataframe\">\n",
       "  <thead>\n",
       "    <tr style=\"text-align: right;\">\n",
       "      <th></th>\n",
       "      <th>App</th>\n",
       "      <th>Category</th>\n",
       "      <th>Rating</th>\n",
       "      <th>Reviews</th>\n",
       "      <th>Size</th>\n",
       "      <th>Installs</th>\n",
       "      <th>Type</th>\n",
       "      <th>Price</th>\n",
       "      <th>Content Rating</th>\n",
       "      <th>Genres</th>\n",
       "      <th>Last Updated</th>\n",
       "      <th>Current Ver</th>\n",
       "      <th>Android Ver</th>\n",
       "    </tr>\n",
       "  </thead>\n",
       "  <tbody>\n",
       "    <tr>\n",
       "      <th>0</th>\n",
       "      <td>Photo Editor &amp; Candy Camera &amp; Grid &amp; ScrapBook</td>\n",
       "      <td>ART_AND_DESIGN</td>\n",
       "      <td>4.1</td>\n",
       "      <td>159</td>\n",
       "      <td>19M</td>\n",
       "      <td>10,000+</td>\n",
       "      <td>Free</td>\n",
       "      <td>0</td>\n",
       "      <td>Everyone</td>\n",
       "      <td>Art &amp; Design</td>\n",
       "      <td>January 7, 2018</td>\n",
       "      <td>1.0.0</td>\n",
       "      <td>4.0.3 and up</td>\n",
       "    </tr>\n",
       "    <tr>\n",
       "      <th>1</th>\n",
       "      <td>Coloring book moana</td>\n",
       "      <td>ART_AND_DESIGN</td>\n",
       "      <td>3.9</td>\n",
       "      <td>967</td>\n",
       "      <td>14M</td>\n",
       "      <td>500,000+</td>\n",
       "      <td>Free</td>\n",
       "      <td>0</td>\n",
       "      <td>Everyone</td>\n",
       "      <td>Art &amp; Design;Pretend Play</td>\n",
       "      <td>January 15, 2018</td>\n",
       "      <td>2.0.0</td>\n",
       "      <td>4.0.3 and up</td>\n",
       "    </tr>\n",
       "    <tr>\n",
       "      <th>2</th>\n",
       "      <td>U Launcher Lite – FREE Live Cool Themes, Hide ...</td>\n",
       "      <td>ART_AND_DESIGN</td>\n",
       "      <td>4.7</td>\n",
       "      <td>87510</td>\n",
       "      <td>8.7M</td>\n",
       "      <td>5,000,000+</td>\n",
       "      <td>Free</td>\n",
       "      <td>0</td>\n",
       "      <td>Everyone</td>\n",
       "      <td>Art &amp; Design</td>\n",
       "      <td>August 1, 2018</td>\n",
       "      <td>1.2.4</td>\n",
       "      <td>4.0.3 and up</td>\n",
       "    </tr>\n",
       "    <tr>\n",
       "      <th>3</th>\n",
       "      <td>Sketch - Draw &amp; Paint</td>\n",
       "      <td>ART_AND_DESIGN</td>\n",
       "      <td>4.5</td>\n",
       "      <td>215644</td>\n",
       "      <td>25M</td>\n",
       "      <td>50,000,000+</td>\n",
       "      <td>Free</td>\n",
       "      <td>0</td>\n",
       "      <td>Teen</td>\n",
       "      <td>Art &amp; Design</td>\n",
       "      <td>June 8, 2018</td>\n",
       "      <td>Varies with device</td>\n",
       "      <td>4.2 and up</td>\n",
       "    </tr>\n",
       "    <tr>\n",
       "      <th>4</th>\n",
       "      <td>Pixel Draw - Number Art Coloring Book</td>\n",
       "      <td>ART_AND_DESIGN</td>\n",
       "      <td>4.3</td>\n",
       "      <td>967</td>\n",
       "      <td>2.8M</td>\n",
       "      <td>100,000+</td>\n",
       "      <td>Free</td>\n",
       "      <td>0</td>\n",
       "      <td>Everyone</td>\n",
       "      <td>Art &amp; Design;Creativity</td>\n",
       "      <td>June 20, 2018</td>\n",
       "      <td>1.1</td>\n",
       "      <td>4.4 and up</td>\n",
       "    </tr>\n",
       "  </tbody>\n",
       "</table>\n",
       "</div>"
      ],
      "text/plain": [
       "                                                 App        Category  Rating  \\\n",
       "0     Photo Editor & Candy Camera & Grid & ScrapBook  ART_AND_DESIGN     4.1   \n",
       "1                                Coloring book moana  ART_AND_DESIGN     3.9   \n",
       "2  U Launcher Lite – FREE Live Cool Themes, Hide ...  ART_AND_DESIGN     4.7   \n",
       "3                              Sketch - Draw & Paint  ART_AND_DESIGN     4.5   \n",
       "4              Pixel Draw - Number Art Coloring Book  ART_AND_DESIGN     4.3   \n",
       "\n",
       "  Reviews  Size     Installs  Type Price Content Rating  \\\n",
       "0     159   19M      10,000+  Free     0       Everyone   \n",
       "1     967   14M     500,000+  Free     0       Everyone   \n",
       "2   87510  8.7M   5,000,000+  Free     0       Everyone   \n",
       "3  215644   25M  50,000,000+  Free     0           Teen   \n",
       "4     967  2.8M     100,000+  Free     0       Everyone   \n",
       "\n",
       "                      Genres      Last Updated         Current Ver  \\\n",
       "0               Art & Design   January 7, 2018               1.0.0   \n",
       "1  Art & Design;Pretend Play  January 15, 2018               2.0.0   \n",
       "2               Art & Design    August 1, 2018               1.2.4   \n",
       "3               Art & Design      June 8, 2018  Varies with device   \n",
       "4    Art & Design;Creativity     June 20, 2018                 1.1   \n",
       "\n",
       "    Android Ver  \n",
       "0  4.0.3 and up  \n",
       "1  4.0.3 and up  \n",
       "2  4.0.3 and up  \n",
       "3    4.2 and up  \n",
       "4    4.4 and up  "
      ]
     },
     "execution_count": 108,
     "metadata": {},
     "output_type": "execute_result"
    }
   ],
   "source": [
    "# After reading lets load the data\n",
    "\n",
    "ps_data.head()"
   ]
  },
  {
   "cell_type": "code",
   "execution_count": 109,
   "id": "57b68653",
   "metadata": {
    "scrolled": true
   },
   "outputs": [
    {
     "name": "stdout",
     "output_type": "stream",
     "text": [
      "So shape attribute shows that Google playstore data has 10841 rows of entries and 13 total columns\n"
     ]
    }
   ],
   "source": [
    "# lets view the shape of data\n",
    "\n",
    "data= ps_data.shape\n",
    "\n",
    "print('So shape attribute shows that Google playstore data has', data[0], 'rows of entries and', data[1], 'total columns')    "
   ]
  },
  {
   "cell_type": "code",
   "execution_count": 110,
   "id": "206eeabb",
   "metadata": {
    "scrolled": false
   },
   "outputs": [
    {
     "name": "stdout",
     "output_type": "stream",
     "text": [
      "<class 'pandas.core.frame.DataFrame'>\n",
      "RangeIndex: 10841 entries, 0 to 10840\n",
      "Data columns (total 13 columns):\n",
      " #   Column          Non-Null Count  Dtype  \n",
      "---  ------          --------------  -----  \n",
      " 0   App             10841 non-null  object \n",
      " 1   Category        10841 non-null  object \n",
      " 2   Rating          9367 non-null   float64\n",
      " 3   Reviews         10841 non-null  object \n",
      " 4   Size            10841 non-null  object \n",
      " 5   Installs        10841 non-null  object \n",
      " 6   Type            10840 non-null  object \n",
      " 7   Price           10841 non-null  object \n",
      " 8   Content Rating  10840 non-null  object \n",
      " 9   Genres          10841 non-null  object \n",
      " 10  Last Updated    10841 non-null  object \n",
      " 11  Current Ver     10833 non-null  object \n",
      " 12  Android Ver     10838 non-null  object \n",
      "dtypes: float64(1), object(12)\n",
      "memory usage: 1.1+ MB\n"
     ]
    }
   ],
   "source": [
    "# Looking at the info of data & understanding it\n",
    "\n",
    "ps_data.info()"
   ]
  },
  {
   "cell_type": "markdown",
   "id": "48e64042",
   "metadata": {},
   "source": [
    "Inferences:-\n",
    "1. Above data contains total 10841 entries & 13 columns.\n",
    "2. Except 'Rating(float)' column other all columns have object datatype.\n",
    "3. Also 'Rating' column have around 1474 null values out of total entries and columns 'Type', 'Content Rating', 'Current Ver' & 'Android Ver' have the least null values."
   ]
  },
  {
   "cell_type": "markdown",
   "id": "cd48b37a",
   "metadata": {},
   "source": [
    "### 3. Check summary statistics of the dataset. List out the columns that need to be worked upon for model building. "
   ]
  },
  {
   "cell_type": "code",
   "execution_count": 111,
   "id": "8982ee2f",
   "metadata": {},
   "outputs": [
    {
     "data": {
      "text/html": [
       "<div>\n",
       "<style scoped>\n",
       "    .dataframe tbody tr th:only-of-type {\n",
       "        vertical-align: middle;\n",
       "    }\n",
       "\n",
       "    .dataframe tbody tr th {\n",
       "        vertical-align: top;\n",
       "    }\n",
       "\n",
       "    .dataframe thead th {\n",
       "        text-align: right;\n",
       "    }\n",
       "</style>\n",
       "<table border=\"1\" class=\"dataframe\">\n",
       "  <thead>\n",
       "    <tr style=\"text-align: right;\">\n",
       "      <th></th>\n",
       "      <th>count</th>\n",
       "      <th>unique</th>\n",
       "      <th>top</th>\n",
       "      <th>freq</th>\n",
       "      <th>mean</th>\n",
       "      <th>std</th>\n",
       "      <th>min</th>\n",
       "      <th>25%</th>\n",
       "      <th>50%</th>\n",
       "      <th>75%</th>\n",
       "      <th>max</th>\n",
       "    </tr>\n",
       "  </thead>\n",
       "  <tbody>\n",
       "    <tr>\n",
       "      <th>App</th>\n",
       "      <td>10841</td>\n",
       "      <td>9660</td>\n",
       "      <td>ROBLOX</td>\n",
       "      <td>9</td>\n",
       "      <td>NaN</td>\n",
       "      <td>NaN</td>\n",
       "      <td>NaN</td>\n",
       "      <td>NaN</td>\n",
       "      <td>NaN</td>\n",
       "      <td>NaN</td>\n",
       "      <td>NaN</td>\n",
       "    </tr>\n",
       "    <tr>\n",
       "      <th>Category</th>\n",
       "      <td>10841</td>\n",
       "      <td>34</td>\n",
       "      <td>FAMILY</td>\n",
       "      <td>1972</td>\n",
       "      <td>NaN</td>\n",
       "      <td>NaN</td>\n",
       "      <td>NaN</td>\n",
       "      <td>NaN</td>\n",
       "      <td>NaN</td>\n",
       "      <td>NaN</td>\n",
       "      <td>NaN</td>\n",
       "    </tr>\n",
       "    <tr>\n",
       "      <th>Rating</th>\n",
       "      <td>9367.0</td>\n",
       "      <td>NaN</td>\n",
       "      <td>NaN</td>\n",
       "      <td>NaN</td>\n",
       "      <td>4.193338</td>\n",
       "      <td>0.537431</td>\n",
       "      <td>1.0</td>\n",
       "      <td>4.0</td>\n",
       "      <td>4.3</td>\n",
       "      <td>4.5</td>\n",
       "      <td>19.0</td>\n",
       "    </tr>\n",
       "    <tr>\n",
       "      <th>Reviews</th>\n",
       "      <td>10841</td>\n",
       "      <td>6002</td>\n",
       "      <td>0</td>\n",
       "      <td>596</td>\n",
       "      <td>NaN</td>\n",
       "      <td>NaN</td>\n",
       "      <td>NaN</td>\n",
       "      <td>NaN</td>\n",
       "      <td>NaN</td>\n",
       "      <td>NaN</td>\n",
       "      <td>NaN</td>\n",
       "    </tr>\n",
       "    <tr>\n",
       "      <th>Size</th>\n",
       "      <td>10841</td>\n",
       "      <td>462</td>\n",
       "      <td>Varies with device</td>\n",
       "      <td>1695</td>\n",
       "      <td>NaN</td>\n",
       "      <td>NaN</td>\n",
       "      <td>NaN</td>\n",
       "      <td>NaN</td>\n",
       "      <td>NaN</td>\n",
       "      <td>NaN</td>\n",
       "      <td>NaN</td>\n",
       "    </tr>\n",
       "    <tr>\n",
       "      <th>Installs</th>\n",
       "      <td>10841</td>\n",
       "      <td>22</td>\n",
       "      <td>1,000,000+</td>\n",
       "      <td>1579</td>\n",
       "      <td>NaN</td>\n",
       "      <td>NaN</td>\n",
       "      <td>NaN</td>\n",
       "      <td>NaN</td>\n",
       "      <td>NaN</td>\n",
       "      <td>NaN</td>\n",
       "      <td>NaN</td>\n",
       "    </tr>\n",
       "    <tr>\n",
       "      <th>Type</th>\n",
       "      <td>10840</td>\n",
       "      <td>3</td>\n",
       "      <td>Free</td>\n",
       "      <td>10039</td>\n",
       "      <td>NaN</td>\n",
       "      <td>NaN</td>\n",
       "      <td>NaN</td>\n",
       "      <td>NaN</td>\n",
       "      <td>NaN</td>\n",
       "      <td>NaN</td>\n",
       "      <td>NaN</td>\n",
       "    </tr>\n",
       "    <tr>\n",
       "      <th>Price</th>\n",
       "      <td>10841</td>\n",
       "      <td>93</td>\n",
       "      <td>0</td>\n",
       "      <td>10040</td>\n",
       "      <td>NaN</td>\n",
       "      <td>NaN</td>\n",
       "      <td>NaN</td>\n",
       "      <td>NaN</td>\n",
       "      <td>NaN</td>\n",
       "      <td>NaN</td>\n",
       "      <td>NaN</td>\n",
       "    </tr>\n",
       "    <tr>\n",
       "      <th>Content Rating</th>\n",
       "      <td>10840</td>\n",
       "      <td>6</td>\n",
       "      <td>Everyone</td>\n",
       "      <td>8714</td>\n",
       "      <td>NaN</td>\n",
       "      <td>NaN</td>\n",
       "      <td>NaN</td>\n",
       "      <td>NaN</td>\n",
       "      <td>NaN</td>\n",
       "      <td>NaN</td>\n",
       "      <td>NaN</td>\n",
       "    </tr>\n",
       "    <tr>\n",
       "      <th>Genres</th>\n",
       "      <td>10841</td>\n",
       "      <td>120</td>\n",
       "      <td>Tools</td>\n",
       "      <td>842</td>\n",
       "      <td>NaN</td>\n",
       "      <td>NaN</td>\n",
       "      <td>NaN</td>\n",
       "      <td>NaN</td>\n",
       "      <td>NaN</td>\n",
       "      <td>NaN</td>\n",
       "      <td>NaN</td>\n",
       "    </tr>\n",
       "    <tr>\n",
       "      <th>Last Updated</th>\n",
       "      <td>10841</td>\n",
       "      <td>1378</td>\n",
       "      <td>August 3, 2018</td>\n",
       "      <td>326</td>\n",
       "      <td>NaN</td>\n",
       "      <td>NaN</td>\n",
       "      <td>NaN</td>\n",
       "      <td>NaN</td>\n",
       "      <td>NaN</td>\n",
       "      <td>NaN</td>\n",
       "      <td>NaN</td>\n",
       "    </tr>\n",
       "    <tr>\n",
       "      <th>Current Ver</th>\n",
       "      <td>10833</td>\n",
       "      <td>2832</td>\n",
       "      <td>Varies with device</td>\n",
       "      <td>1459</td>\n",
       "      <td>NaN</td>\n",
       "      <td>NaN</td>\n",
       "      <td>NaN</td>\n",
       "      <td>NaN</td>\n",
       "      <td>NaN</td>\n",
       "      <td>NaN</td>\n",
       "      <td>NaN</td>\n",
       "    </tr>\n",
       "    <tr>\n",
       "      <th>Android Ver</th>\n",
       "      <td>10838</td>\n",
       "      <td>33</td>\n",
       "      <td>4.1 and up</td>\n",
       "      <td>2451</td>\n",
       "      <td>NaN</td>\n",
       "      <td>NaN</td>\n",
       "      <td>NaN</td>\n",
       "      <td>NaN</td>\n",
       "      <td>NaN</td>\n",
       "      <td>NaN</td>\n",
       "      <td>NaN</td>\n",
       "    </tr>\n",
       "  </tbody>\n",
       "</table>\n",
       "</div>"
      ],
      "text/plain": [
       "                 count unique                 top   freq      mean       std  \\\n",
       "App              10841   9660              ROBLOX      9       NaN       NaN   \n",
       "Category         10841     34              FAMILY   1972       NaN       NaN   \n",
       "Rating          9367.0    NaN                 NaN    NaN  4.193338  0.537431   \n",
       "Reviews          10841   6002                   0    596       NaN       NaN   \n",
       "Size             10841    462  Varies with device   1695       NaN       NaN   \n",
       "Installs         10841     22          1,000,000+   1579       NaN       NaN   \n",
       "Type             10840      3                Free  10039       NaN       NaN   \n",
       "Price            10841     93                   0  10040       NaN       NaN   \n",
       "Content Rating   10840      6            Everyone   8714       NaN       NaN   \n",
       "Genres           10841    120               Tools    842       NaN       NaN   \n",
       "Last Updated     10841   1378      August 3, 2018    326       NaN       NaN   \n",
       "Current Ver      10833   2832  Varies with device   1459       NaN       NaN   \n",
       "Android Ver      10838     33          4.1 and up   2451       NaN       NaN   \n",
       "\n",
       "                min  25%  50%  75%   max  \n",
       "App             NaN  NaN  NaN  NaN   NaN  \n",
       "Category        NaN  NaN  NaN  NaN   NaN  \n",
       "Rating          1.0  4.0  4.3  4.5  19.0  \n",
       "Reviews         NaN  NaN  NaN  NaN   NaN  \n",
       "Size            NaN  NaN  NaN  NaN   NaN  \n",
       "Installs        NaN  NaN  NaN  NaN   NaN  \n",
       "Type            NaN  NaN  NaN  NaN   NaN  \n",
       "Price           NaN  NaN  NaN  NaN   NaN  \n",
       "Content Rating  NaN  NaN  NaN  NaN   NaN  \n",
       "Genres          NaN  NaN  NaN  NaN   NaN  \n",
       "Last Updated    NaN  NaN  NaN  NaN   NaN  \n",
       "Current Ver     NaN  NaN  NaN  NaN   NaN  \n",
       "Android Ver     NaN  NaN  NaN  NaN   NaN  "
      ]
     },
     "execution_count": 111,
     "metadata": {},
     "output_type": "execute_result"
    }
   ],
   "source": [
    "# Checking out the summary statistic of the data for all variable.\n",
    "\n",
    "ps_data.describe(include = 'all').T"
   ]
  },
  {
   "cell_type": "markdown",
   "id": "c7073009",
   "metadata": {},
   "source": [
    "Inferences\n",
    "The columns required to be worked on are categorical type,\n",
    "1. Size\n",
    "2. Installs\n",
    "3. Type\n",
    "4. Price\n",
    "5. Content Rating"
   ]
  },
  {
   "cell_type": "code",
   "execution_count": 112,
   "id": "9d3ca799",
   "metadata": {},
   "outputs": [
    {
     "data": {
      "text/plain": [
       "August 3, 2018        326\n",
       "August 2, 2018        304\n",
       "July 31, 2018         294\n",
       "August 1, 2018        285\n",
       "July 30, 2018         211\n",
       "                     ... \n",
       "March 20, 2014          1\n",
       "April 7, 2015           1\n",
       "September 22, 2014      1\n",
       "October 3, 2015         1\n",
       "March 23, 2014          1\n",
       "Name: Last Updated, Length: 1378, dtype: int64"
      ]
     },
     "execution_count": 112,
     "metadata": {},
     "output_type": "execute_result"
    }
   ],
   "source": [
    "# Just checking the values present in the data\n",
    "ps_data['Last Updated'].value_counts()"
   ]
  },
  {
   "cell_type": "markdown",
   "id": "3562641f",
   "metadata": {},
   "source": [
    "### 4. Check if there are any duplicate records in the dataset? if any drop them."
   ]
  },
  {
   "cell_type": "code",
   "execution_count": 113,
   "id": "1095b022",
   "metadata": {},
   "outputs": [
    {
     "data": {
      "text/plain": [
       "483"
      ]
     },
     "execution_count": 113,
     "metadata": {},
     "output_type": "execute_result"
    }
   ],
   "source": [
    "# to check the duplicate values in total we can do this method\n",
    "\n",
    "ps_data.duplicated().sum()"
   ]
  },
  {
   "cell_type": "code",
   "execution_count": 114,
   "id": "84c69f8f",
   "metadata": {},
   "outputs": [],
   "source": [
    "# And this will give detailed info of the duplicate values\n",
    "\n",
    "duplicated = ps_data[ps_data.duplicated()]"
   ]
  },
  {
   "cell_type": "code",
   "execution_count": 115,
   "id": "8433b871",
   "metadata": {
    "scrolled": true
   },
   "outputs": [
    {
     "data": {
      "text/html": [
       "<div>\n",
       "<style scoped>\n",
       "    .dataframe tbody tr th:only-of-type {\n",
       "        vertical-align: middle;\n",
       "    }\n",
       "\n",
       "    .dataframe tbody tr th {\n",
       "        vertical-align: top;\n",
       "    }\n",
       "\n",
       "    .dataframe thead th {\n",
       "        text-align: right;\n",
       "    }\n",
       "</style>\n",
       "<table border=\"1\" class=\"dataframe\">\n",
       "  <thead>\n",
       "    <tr style=\"text-align: right;\">\n",
       "      <th></th>\n",
       "      <th>App</th>\n",
       "      <th>Category</th>\n",
       "      <th>Rating</th>\n",
       "      <th>Reviews</th>\n",
       "      <th>Size</th>\n",
       "      <th>Installs</th>\n",
       "      <th>Type</th>\n",
       "      <th>Price</th>\n",
       "      <th>Content Rating</th>\n",
       "      <th>Genres</th>\n",
       "      <th>Last Updated</th>\n",
       "      <th>Current Ver</th>\n",
       "      <th>Android Ver</th>\n",
       "    </tr>\n",
       "  </thead>\n",
       "  <tbody>\n",
       "    <tr>\n",
       "      <th>229</th>\n",
       "      <td>Quick PDF Scanner + OCR FREE</td>\n",
       "      <td>BUSINESS</td>\n",
       "      <td>4.2</td>\n",
       "      <td>80805</td>\n",
       "      <td>Varies with device</td>\n",
       "      <td>5,000,000+</td>\n",
       "      <td>Free</td>\n",
       "      <td>0</td>\n",
       "      <td>Everyone</td>\n",
       "      <td>Business</td>\n",
       "      <td>February 26, 2018</td>\n",
       "      <td>Varies with device</td>\n",
       "      <td>4.0.3 and up</td>\n",
       "    </tr>\n",
       "    <tr>\n",
       "      <th>236</th>\n",
       "      <td>Box</td>\n",
       "      <td>BUSINESS</td>\n",
       "      <td>4.2</td>\n",
       "      <td>159872</td>\n",
       "      <td>Varies with device</td>\n",
       "      <td>10,000,000+</td>\n",
       "      <td>Free</td>\n",
       "      <td>0</td>\n",
       "      <td>Everyone</td>\n",
       "      <td>Business</td>\n",
       "      <td>July 31, 2018</td>\n",
       "      <td>Varies with device</td>\n",
       "      <td>Varies with device</td>\n",
       "    </tr>\n",
       "    <tr>\n",
       "      <th>239</th>\n",
       "      <td>Google My Business</td>\n",
       "      <td>BUSINESS</td>\n",
       "      <td>4.4</td>\n",
       "      <td>70991</td>\n",
       "      <td>Varies with device</td>\n",
       "      <td>5,000,000+</td>\n",
       "      <td>Free</td>\n",
       "      <td>0</td>\n",
       "      <td>Everyone</td>\n",
       "      <td>Business</td>\n",
       "      <td>July 24, 2018</td>\n",
       "      <td>2.19.0.204537701</td>\n",
       "      <td>4.4 and up</td>\n",
       "    </tr>\n",
       "    <tr>\n",
       "      <th>256</th>\n",
       "      <td>ZOOM Cloud Meetings</td>\n",
       "      <td>BUSINESS</td>\n",
       "      <td>4.4</td>\n",
       "      <td>31614</td>\n",
       "      <td>37M</td>\n",
       "      <td>10,000,000+</td>\n",
       "      <td>Free</td>\n",
       "      <td>0</td>\n",
       "      <td>Everyone</td>\n",
       "      <td>Business</td>\n",
       "      <td>July 20, 2018</td>\n",
       "      <td>4.1.28165.0716</td>\n",
       "      <td>4.0 and up</td>\n",
       "    </tr>\n",
       "    <tr>\n",
       "      <th>261</th>\n",
       "      <td>join.me - Simple Meetings</td>\n",
       "      <td>BUSINESS</td>\n",
       "      <td>4.0</td>\n",
       "      <td>6989</td>\n",
       "      <td>Varies with device</td>\n",
       "      <td>1,000,000+</td>\n",
       "      <td>Free</td>\n",
       "      <td>0</td>\n",
       "      <td>Everyone</td>\n",
       "      <td>Business</td>\n",
       "      <td>July 16, 2018</td>\n",
       "      <td>4.3.0.508</td>\n",
       "      <td>4.4 and up</td>\n",
       "    </tr>\n",
       "    <tr>\n",
       "      <th>...</th>\n",
       "      <td>...</td>\n",
       "      <td>...</td>\n",
       "      <td>...</td>\n",
       "      <td>...</td>\n",
       "      <td>...</td>\n",
       "      <td>...</td>\n",
       "      <td>...</td>\n",
       "      <td>...</td>\n",
       "      <td>...</td>\n",
       "      <td>...</td>\n",
       "      <td>...</td>\n",
       "      <td>...</td>\n",
       "      <td>...</td>\n",
       "    </tr>\n",
       "    <tr>\n",
       "      <th>8643</th>\n",
       "      <td>Wunderlist: To-Do List &amp; Tasks</td>\n",
       "      <td>PRODUCTIVITY</td>\n",
       "      <td>4.6</td>\n",
       "      <td>404610</td>\n",
       "      <td>Varies with device</td>\n",
       "      <td>10,000,000+</td>\n",
       "      <td>Free</td>\n",
       "      <td>0</td>\n",
       "      <td>Everyone</td>\n",
       "      <td>Productivity</td>\n",
       "      <td>April 6, 2018</td>\n",
       "      <td>Varies with device</td>\n",
       "      <td>Varies with device</td>\n",
       "    </tr>\n",
       "    <tr>\n",
       "      <th>8654</th>\n",
       "      <td>TickTick: To Do List with Reminder, Day Planner</td>\n",
       "      <td>PRODUCTIVITY</td>\n",
       "      <td>4.6</td>\n",
       "      <td>25370</td>\n",
       "      <td>Varies with device</td>\n",
       "      <td>1,000,000+</td>\n",
       "      <td>Free</td>\n",
       "      <td>0</td>\n",
       "      <td>Everyone</td>\n",
       "      <td>Productivity</td>\n",
       "      <td>August 6, 2018</td>\n",
       "      <td>Varies with device</td>\n",
       "      <td>Varies with device</td>\n",
       "    </tr>\n",
       "    <tr>\n",
       "      <th>8658</th>\n",
       "      <td>ColorNote Notepad Notes</td>\n",
       "      <td>PRODUCTIVITY</td>\n",
       "      <td>4.6</td>\n",
       "      <td>2401017</td>\n",
       "      <td>Varies with device</td>\n",
       "      <td>100,000,000+</td>\n",
       "      <td>Free</td>\n",
       "      <td>0</td>\n",
       "      <td>Everyone</td>\n",
       "      <td>Productivity</td>\n",
       "      <td>June 27, 2018</td>\n",
       "      <td>Varies with device</td>\n",
       "      <td>Varies with device</td>\n",
       "    </tr>\n",
       "    <tr>\n",
       "      <th>10049</th>\n",
       "      <td>Airway Ex - Intubate. Anesthetize. Train.</td>\n",
       "      <td>MEDICAL</td>\n",
       "      <td>4.3</td>\n",
       "      <td>123</td>\n",
       "      <td>86M</td>\n",
       "      <td>10,000+</td>\n",
       "      <td>Free</td>\n",
       "      <td>0</td>\n",
       "      <td>Everyone</td>\n",
       "      <td>Medical</td>\n",
       "      <td>June 1, 2018</td>\n",
       "      <td>0.6.88</td>\n",
       "      <td>5.0 and up</td>\n",
       "    </tr>\n",
       "    <tr>\n",
       "      <th>10768</th>\n",
       "      <td>AAFP</td>\n",
       "      <td>MEDICAL</td>\n",
       "      <td>3.8</td>\n",
       "      <td>63</td>\n",
       "      <td>24M</td>\n",
       "      <td>10,000+</td>\n",
       "      <td>Free</td>\n",
       "      <td>0</td>\n",
       "      <td>Everyone</td>\n",
       "      <td>Medical</td>\n",
       "      <td>June 22, 2018</td>\n",
       "      <td>2.3.1</td>\n",
       "      <td>5.0 and up</td>\n",
       "    </tr>\n",
       "  </tbody>\n",
       "</table>\n",
       "<p>483 rows × 13 columns</p>\n",
       "</div>"
      ],
      "text/plain": [
       "                                                   App      Category  Rating  \\\n",
       "229                       Quick PDF Scanner + OCR FREE      BUSINESS     4.2   \n",
       "236                                                Box      BUSINESS     4.2   \n",
       "239                                 Google My Business      BUSINESS     4.4   \n",
       "256                                ZOOM Cloud Meetings      BUSINESS     4.4   \n",
       "261                          join.me - Simple Meetings      BUSINESS     4.0   \n",
       "...                                                ...           ...     ...   \n",
       "8643                    Wunderlist: To-Do List & Tasks  PRODUCTIVITY     4.6   \n",
       "8654   TickTick: To Do List with Reminder, Day Planner  PRODUCTIVITY     4.6   \n",
       "8658                           ColorNote Notepad Notes  PRODUCTIVITY     4.6   \n",
       "10049        Airway Ex - Intubate. Anesthetize. Train.       MEDICAL     4.3   \n",
       "10768                                             AAFP       MEDICAL     3.8   \n",
       "\n",
       "       Reviews                Size      Installs  Type Price Content Rating  \\\n",
       "229      80805  Varies with device    5,000,000+  Free     0       Everyone   \n",
       "236     159872  Varies with device   10,000,000+  Free     0       Everyone   \n",
       "239      70991  Varies with device    5,000,000+  Free     0       Everyone   \n",
       "256      31614                 37M   10,000,000+  Free     0       Everyone   \n",
       "261       6989  Varies with device    1,000,000+  Free     0       Everyone   \n",
       "...        ...                 ...           ...   ...   ...            ...   \n",
       "8643    404610  Varies with device   10,000,000+  Free     0       Everyone   \n",
       "8654     25370  Varies with device    1,000,000+  Free     0       Everyone   \n",
       "8658   2401017  Varies with device  100,000,000+  Free     0       Everyone   \n",
       "10049      123                 86M       10,000+  Free     0       Everyone   \n",
       "10768       63                 24M       10,000+  Free     0       Everyone   \n",
       "\n",
       "             Genres       Last Updated         Current Ver         Android Ver  \n",
       "229        Business  February 26, 2018  Varies with device        4.0.3 and up  \n",
       "236        Business      July 31, 2018  Varies with device  Varies with device  \n",
       "239        Business      July 24, 2018    2.19.0.204537701          4.4 and up  \n",
       "256        Business      July 20, 2018      4.1.28165.0716          4.0 and up  \n",
       "261        Business      July 16, 2018           4.3.0.508          4.4 and up  \n",
       "...             ...                ...                 ...                 ...  \n",
       "8643   Productivity      April 6, 2018  Varies with device  Varies with device  \n",
       "8654   Productivity     August 6, 2018  Varies with device  Varies with device  \n",
       "8658   Productivity      June 27, 2018  Varies with device  Varies with device  \n",
       "10049       Medical       June 1, 2018              0.6.88          5.0 and up  \n",
       "10768       Medical      June 22, 2018               2.3.1          5.0 and up  \n",
       "\n",
       "[483 rows x 13 columns]"
      ]
     },
     "execution_count": 115,
     "metadata": {},
     "output_type": "execute_result"
    }
   ],
   "source": [
    "duplicated\n",
    "\n",
    "# as we can it has 483 rows with duplicate values"
   ]
  },
  {
   "cell_type": "code",
   "execution_count": 116,
   "id": "64053736",
   "metadata": {},
   "outputs": [],
   "source": [
    "# So now we will drop this dulicate values\n",
    "# inplace = True will drop all duplicated values from original data\n",
    "\n",
    "ps_data.drop_duplicates(inplace = True )"
   ]
  },
  {
   "cell_type": "code",
   "execution_count": 117,
   "id": "3909f898",
   "metadata": {},
   "outputs": [
    {
     "data": {
      "text/plain": [
       "(10358, 13)"
      ]
     },
     "execution_count": 117,
     "metadata": {},
     "output_type": "execute_result"
    }
   ],
   "source": [
    "# As we can see there were almost 500 entries which have been deleted\n",
    "\n",
    "ps_data.shape"
   ]
  },
  {
   "cell_type": "markdown",
   "id": "9ec69e01",
   "metadata": {},
   "source": [
    "### 5. Check the unique categories of the column 'Category', Is there any invalid category? If yes, drop them."
   ]
  },
  {
   "cell_type": "code",
   "execution_count": 118,
   "id": "90f4d2fd",
   "metadata": {
    "scrolled": false
   },
   "outputs": [
    {
     "data": {
      "text/plain": [
       "array(['ART_AND_DESIGN', 'AUTO_AND_VEHICLES', 'BEAUTY',\n",
       "       'BOOKS_AND_REFERENCE', 'BUSINESS', 'COMICS', 'COMMUNICATION',\n",
       "       'DATING', 'EDUCATION', 'ENTERTAINMENT', 'EVENTS', 'FINANCE',\n",
       "       'FOOD_AND_DRINK', 'HEALTH_AND_FITNESS', 'HOUSE_AND_HOME',\n",
       "       'LIBRARIES_AND_DEMO', 'LIFESTYLE', 'GAME', 'FAMILY', 'MEDICAL',\n",
       "       'SOCIAL', 'SHOPPING', 'PHOTOGRAPHY', 'SPORTS', 'TRAVEL_AND_LOCAL',\n",
       "       'TOOLS', 'PERSONALIZATION', 'PRODUCTIVITY', 'PARENTING', 'WEATHER',\n",
       "       'VIDEO_PLAYERS', 'NEWS_AND_MAGAZINES', 'MAPS_AND_NAVIGATION',\n",
       "       '1.9'], dtype=object)"
      ]
     },
     "execution_count": 118,
     "metadata": {},
     "output_type": "execute_result"
    }
   ],
   "source": [
    "# Here we can see all the named entries in Category column\n",
    "\n",
    "ps_data['Category'].unique()"
   ]
  },
  {
   "cell_type": "code",
   "execution_count": 119,
   "id": "361d07c4",
   "metadata": {
    "scrolled": true
   },
   "outputs": [],
   "source": [
    "# Now we will check for detail info of '1.9' which is shown as a unique value\n",
    "\n",
    "check = ps_data[ps_data['Category']== '1.9']"
   ]
  },
  {
   "cell_type": "code",
   "execution_count": 120,
   "id": "e06ced52",
   "metadata": {},
   "outputs": [
    {
     "data": {
      "text/html": [
       "<div>\n",
       "<style scoped>\n",
       "    .dataframe tbody tr th:only-of-type {\n",
       "        vertical-align: middle;\n",
       "    }\n",
       "\n",
       "    .dataframe tbody tr th {\n",
       "        vertical-align: top;\n",
       "    }\n",
       "\n",
       "    .dataframe thead th {\n",
       "        text-align: right;\n",
       "    }\n",
       "</style>\n",
       "<table border=\"1\" class=\"dataframe\">\n",
       "  <thead>\n",
       "    <tr style=\"text-align: right;\">\n",
       "      <th></th>\n",
       "      <th>App</th>\n",
       "      <th>Category</th>\n",
       "      <th>Rating</th>\n",
       "      <th>Reviews</th>\n",
       "      <th>Size</th>\n",
       "      <th>Installs</th>\n",
       "      <th>Type</th>\n",
       "      <th>Price</th>\n",
       "      <th>Content Rating</th>\n",
       "      <th>Genres</th>\n",
       "      <th>Last Updated</th>\n",
       "      <th>Current Ver</th>\n",
       "      <th>Android Ver</th>\n",
       "    </tr>\n",
       "  </thead>\n",
       "  <tbody>\n",
       "    <tr>\n",
       "      <th>10472</th>\n",
       "      <td>Life Made WI-Fi Touchscreen Photo Frame</td>\n",
       "      <td>1.9</td>\n",
       "      <td>19.0</td>\n",
       "      <td>3.0M</td>\n",
       "      <td>1,000+</td>\n",
       "      <td>Free</td>\n",
       "      <td>0</td>\n",
       "      <td>Everyone</td>\n",
       "      <td>NaN</td>\n",
       "      <td>February 11, 2018</td>\n",
       "      <td>1.0.19</td>\n",
       "      <td>4.0 and up</td>\n",
       "      <td>NaN</td>\n",
       "    </tr>\n",
       "  </tbody>\n",
       "</table>\n",
       "</div>"
      ],
      "text/plain": [
       "                                           App Category  Rating Reviews  \\\n",
       "10472  Life Made WI-Fi Touchscreen Photo Frame      1.9    19.0    3.0M   \n",
       "\n",
       "         Size Installs Type     Price Content Rating             Genres  \\\n",
       "10472  1,000+     Free    0  Everyone            NaN  February 11, 2018   \n",
       "\n",
       "      Last Updated Current Ver Android Ver  \n",
       "10472       1.0.19  4.0 and up         NaN  "
      ]
     },
     "execution_count": 120,
     "metadata": {},
     "output_type": "execute_result"
    }
   ],
   "source": [
    "check"
   ]
  },
  {
   "cell_type": "code",
   "execution_count": 121,
   "id": "ef172426",
   "metadata": {},
   "outputs": [],
   "source": [
    "# Now as we know the index number we can eassily drop it\n",
    "\n",
    "ps_data.drop(10472, inplace = True)"
   ]
  },
  {
   "cell_type": "code",
   "execution_count": 122,
   "id": "e74283ce",
   "metadata": {},
   "outputs": [
    {
     "data": {
      "text/plain": [
       "array(['ART_AND_DESIGN', 'AUTO_AND_VEHICLES', 'BEAUTY',\n",
       "       'BOOKS_AND_REFERENCE', 'BUSINESS', 'COMICS', 'COMMUNICATION',\n",
       "       'DATING', 'EDUCATION', 'ENTERTAINMENT', 'EVENTS', 'FINANCE',\n",
       "       'FOOD_AND_DRINK', 'HEALTH_AND_FITNESS', 'HOUSE_AND_HOME',\n",
       "       'LIBRARIES_AND_DEMO', 'LIFESTYLE', 'GAME', 'FAMILY', 'MEDICAL',\n",
       "       'SOCIAL', 'SHOPPING', 'PHOTOGRAPHY', 'SPORTS', 'TRAVEL_AND_LOCAL',\n",
       "       'TOOLS', 'PERSONALIZATION', 'PRODUCTIVITY', 'PARENTING', 'WEATHER',\n",
       "       'VIDEO_PLAYERS', 'NEWS_AND_MAGAZINES', 'MAPS_AND_NAVIGATION'],\n",
       "      dtype=object)"
      ]
     },
     "execution_count": 122,
     "metadata": {},
     "output_type": "execute_result"
    }
   ],
   "source": [
    "# We can confrim whether the required unique values has droped or not\n",
    "\n",
    "ps_data['Category'].unique()"
   ]
  },
  {
   "cell_type": "code",
   "execution_count": 123,
   "id": "8079bd8d",
   "metadata": {},
   "outputs": [
    {
     "data": {
      "text/plain": [
       "(10357, 13)"
      ]
     },
     "execution_count": 123,
     "metadata": {},
     "output_type": "execute_result"
    }
   ],
   "source": [
    "ps_data.shape"
   ]
  },
  {
   "cell_type": "markdown",
   "id": "aaa9133d",
   "metadata": {},
   "source": [
    "### 6. Check if there are missing values present in the column Rating, If any? drop them and and create a new column as 'Rating_category' by converting ratings to high and low categories(>3.5 is high rest low)"
   ]
  },
  {
   "cell_type": "code",
   "execution_count": 124,
   "id": "05cd510f",
   "metadata": {},
   "outputs": [
    {
     "name": "stdout",
     "output_type": "stream",
     "text": [
      "Rating column has total  1465 null values\n"
     ]
    }
   ],
   "source": [
    "# First we will check for any null values present or not\n",
    "\n",
    "null = ps_data['Rating'].isnull().sum()\n",
    "print('Rating column has total ',null, 'null values')"
   ]
  },
  {
   "cell_type": "code",
   "execution_count": 125,
   "id": "57cc9995",
   "metadata": {},
   "outputs": [],
   "source": [
    "# As there are null values present, so now we can drop them\n",
    "\n",
    "ps_data.dropna(subset= 'Rating', inplace = True)"
   ]
  },
  {
   "cell_type": "code",
   "execution_count": 126,
   "id": "6c73cac8",
   "metadata": {},
   "outputs": [
    {
     "data": {
      "text/plain": [
       "0"
      ]
     },
     "execution_count": 126,
     "metadata": {},
     "output_type": "execute_result"
    }
   ],
   "source": [
    "# If we check now the null values are deleted\n",
    "ps_data['Rating'].isnull().sum()"
   ]
  },
  {
   "cell_type": "code",
   "execution_count": 127,
   "id": "0960c77f",
   "metadata": {},
   "outputs": [],
   "source": [
    "# Creating a new column \n",
    "\n",
    "ps_data['Rating_category'] = ps_data['Rating'].apply(lambda x: 'high' if x > 3.5 else 'low')"
   ]
  },
  {
   "cell_type": "code",
   "execution_count": 128,
   "id": "9831da41",
   "metadata": {},
   "outputs": [
    {
     "data": {
      "text/plain": [
       "high    8012\n",
       "low      880\n",
       "Name: Rating_category, dtype: int64"
      ]
     },
     "execution_count": 128,
     "metadata": {},
     "output_type": "execute_result"
    }
   ],
   "source": [
    "# As we can see below, new column has been added\n",
    "\n",
    "ps_data['Rating_category'].value_counts()"
   ]
  },
  {
   "cell_type": "markdown",
   "id": "8ce8b0a0",
   "metadata": {},
   "source": [
    "### 7. Check the distribution of the newly created column 'Rating_category' and comment on the distribution."
   ]
  },
  {
   "cell_type": "code",
   "execution_count": 129,
   "id": "1c0f6edd",
   "metadata": {
    "scrolled": true
   },
   "outputs": [
    {
     "data": {
      "image/png": "[encoded data removed]",
      "text/plain": [
       "<Figure size 640x480 with 1 Axes>"
      ]
     },
     "metadata": {},
     "output_type": "display_data"
    }
   ],
   "source": [
    "# Looking over the distrbution of newly created 'Rating_category' column\n",
    "\n",
    "plt.hist(ps_data['Rating_category'],bins = 10)\n",
    "plt.show()"
   ]
  },
  {
   "cell_type": "markdown",
   "id": "cbc45068",
   "metadata": {},
   "source": [
    "Observation\n",
    "1. As we can see here that Rating_category has maximum count of High and very minimal count of low\n",
    "2. Which says that, there are around 8000 apps for high category and around 900 apps for low category which is very minute."
   ]
  },
  {
   "cell_type": "markdown",
   "id": "ce41fe5c",
   "metadata": {},
   "source": [
    "### 8. Convert the column \"Reviews'' to numeric data type and check the presence of outliers in the column and handle the outliers using a transformation approach.(Hint: Use log transformation)"
   ]
  },
  {
   "cell_type": "code",
   "execution_count": 130,
   "id": "957a4e80",
   "metadata": {},
   "outputs": [
    {
     "data": {
      "text/plain": [
       "dtype('O')"
      ]
     },
     "execution_count": 130,
     "metadata": {},
     "output_type": "execute_result"
    }
   ],
   "source": [
    "# data type of Review column\n",
    "\n",
    "ps_data['Reviews'].dtypes\n",
    "# So the original dtype is object "
   ]
  },
  {
   "cell_type": "code",
   "execution_count": 131,
   "id": "f368b2f5",
   "metadata": {},
   "outputs": [],
   "source": [
    "# Converting the dtype of Review coulmn from object to integer\n",
    "\n",
    "ps_data['Reviews'] = ps_data['Reviews'].astype('int')"
   ]
  },
  {
   "cell_type": "code",
   "execution_count": 132,
   "id": "b83aaed9",
   "metadata": {
    "scrolled": true
   },
   "outputs": [
    {
     "data": {
      "text/plain": [
       "dtype('int32')"
      ]
     },
     "execution_count": 132,
     "metadata": {},
     "output_type": "execute_result"
    }
   ],
   "source": [
    "ps_data['Reviews'].dtypes"
   ]
  },
  {
   "cell_type": "code",
   "execution_count": 133,
   "id": "613ca5da",
   "metadata": {},
   "outputs": [
    {
     "data": {
      "text/plain": [
       "count    8.892000e+03\n",
       "mean     4.727764e+05\n",
       "std      2.905052e+06\n",
       "min      1.000000e+00\n",
       "25%      1.640000e+02\n",
       "50%      4.714500e+03\n",
       "75%      7.126675e+04\n",
       "max      7.815831e+07\n",
       "Name: Reviews, dtype: float64"
      ]
     },
     "execution_count": 133,
     "metadata": {},
     "output_type": "execute_result"
    }
   ],
   "source": [
    "ps_data['Reviews'].describe()"
   ]
  },
  {
   "cell_type": "code",
   "execution_count": 134,
   "id": "f455c681",
   "metadata": {},
   "outputs": [
    {
     "data": {
      "text/plain": [
       "0           159\n",
       "1           967\n",
       "2         87510\n",
       "3        215644\n",
       "4           967\n",
       "          ...  \n",
       "10834         7\n",
       "10836        38\n",
       "10837         4\n",
       "10839       114\n",
       "10840    398307\n",
       "Name: Reviews, Length: 8892, dtype: int32"
      ]
     },
     "execution_count": 134,
     "metadata": {},
     "output_type": "execute_result"
    }
   ],
   "source": [
    "ps_data['Reviews']"
   ]
  },
  {
   "cell_type": "code",
   "execution_count": 135,
   "id": "a4ebff12",
   "metadata": {
    "scrolled": true
   },
   "outputs": [
    {
     "data": {
      "image/png": "[encoded data removed]",
      "text/plain": [
       "<Figure size 600x600 with 1 Axes>"
      ]
     },
     "metadata": {},
     "output_type": "display_data"
    }
   ],
   "source": [
    "# Checking out the outliers using the boxplot\n",
    "\n",
    "plt.figure(figsize=(6, 6))\n",
    "sns.boxplot(data=ps_data, y='Reviews')\n",
    "plt.title('Box Plot of Reviews')\n",
    "plt.show()"
   ]
  },
  {
   "cell_type": "markdown",
   "id": "8a2dc6cf",
   "metadata": {},
   "source": [
    "**Observations:-**\n",
    "\n",
    "As we can see data has too many ouliers and needs to be worked on"
   ]
  },
  {
   "cell_type": "markdown",
   "id": "7995cd89",
   "metadata": {},
   "source": [
    "### 9. The column 'Size' contains alphanumeric values, treat the non numeric data and convert the column into suitable data type. (hint: Replace M with 1 million and K with 1 thousand, and drop the entries where size='Varies with device')"
   ]
  },
  {
   "cell_type": "code",
   "execution_count": 145,
   "id": "c57132d7",
   "metadata": {},
   "outputs": [
    {
     "data": {
      "text/plain": [
       "Varies with device    1468\n",
       "14M                    154\n",
       "13M                    152\n",
       "12M                    151\n",
       "11M                    150\n",
       "                      ... \n",
       "383k                     1\n",
       "454k                     1\n",
       "812k                     1\n",
       "442k                     1\n",
       "619k                     1\n",
       "Name: Size, Length: 414, dtype: int32"
      ]
     },
     "execution_count": 145,
     "metadata": {},
     "output_type": "execute_result"
    }
   ],
   "source": [
    "# Here we checking out the values present\n",
    "ps_data['Size'].value_counts().astype(int)\n"
   ]
  },
  {
   "cell_type": "code",
   "execution_count": 149,
   "id": "fb6aa8de",
   "metadata": {},
   "outputs": [],
   "source": [
    "# Trying to repalce the unwanted data from the set by converting it into simple formate\n",
    "\n",
    "ps_data['Size'] = ps_data['Size'].str.replace(',','')\n",
    "ps_data['Size'] = ps_data['Size'].str.replace('M','000000')\n",
    "ps_data['Size'] = ps_data['Size'].str.replace('k','000')"
   ]
  },
  {
   "cell_type": "code",
   "execution_count": 150,
   "id": "ee075fb2",
   "metadata": {},
   "outputs": [
    {
     "data": {
      "text/plain": [
       "Varies with device    1468\n",
       "14000000               154\n",
       "13000000               152\n",
       "12000000               151\n",
       "11000000               150\n",
       "                      ... \n",
       "383000                   1\n",
       "454000                   1\n",
       "812000                   1\n",
       "442000                   1\n",
       "619000                   1\n",
       "Name: Size, Length: 414, dtype: int64"
      ]
     },
     "execution_count": 150,
     "metadata": {},
     "output_type": "execute_result"
    }
   ],
   "source": [
    "# Finally checking the data\n",
    "\n",
    "ps_data['Size'].value_counts()"
   ]
  },
  {
   "cell_type": "markdown",
   "id": "6c4b569b",
   "metadata": {},
   "source": [
    "### 10. Check the column 'Installs', treat the unwanted characters and convert the column into a suitable data type."
   ]
  },
  {
   "cell_type": "code",
   "execution_count": 137,
   "id": "021a2155",
   "metadata": {
    "scrolled": true
   },
   "outputs": [
    {
     "data": {
      "text/plain": [
       "0            10,000+\n",
       "1           500,000+\n",
       "2         5,000,000+\n",
       "3        50,000,000+\n",
       "4           100,000+\n",
       "            ...     \n",
       "10834           500+\n",
       "10836         5,000+\n",
       "10837           100+\n",
       "10839         1,000+\n",
       "10840    10,000,000+\n",
       "Name: Installs, Length: 8892, dtype: object"
      ]
     },
     "execution_count": 137,
     "metadata": {},
     "output_type": "execute_result"
    }
   ],
   "source": [
    "# Column \"Installs\" has some unwanted data, lets look at it\n",
    "\n",
    "ps_data['Installs']"
   ]
  },
  {
   "cell_type": "code",
   "execution_count": 138,
   "id": "13f9385b",
   "metadata": {},
   "outputs": [],
   "source": [
    "# As we know that there are unwanted values present in the data,so we can replace them\n",
    "\n",
    "ps_data['Installs'] = ps_data['Installs'].str.replace(',','')\n",
    "ps_data['Installs'] = ps_data['Installs'].str.replace('+','').astype(int)"
   ]
  },
  {
   "cell_type": "code",
   "execution_count": 139,
   "id": "c371d78e",
   "metadata": {},
   "outputs": [
    {
     "data": {
      "text/plain": [
       "0           10000\n",
       "1          500000\n",
       "2         5000000\n",
       "3        50000000\n",
       "4          100000\n",
       "           ...   \n",
       "10834         500\n",
       "10836        5000\n",
       "10837         100\n",
       "10839        1000\n",
       "10840    10000000\n",
       "Name: Installs, Length: 8892, dtype: int32"
      ]
     },
     "execution_count": 139,
     "metadata": {},
     "output_type": "execute_result"
    }
   ],
   "source": [
    "# After replacing, finally we can see the converted data\n",
    "\n",
    "ps_data['Installs']"
   ]
  },
  {
   "cell_type": "markdown",
   "id": "013a3467",
   "metadata": {},
   "source": [
    "### 11. Check the column 'Price' , remove the unwanted characters and convert the column into a suitable data type."
   ]
  },
  {
   "cell_type": "code",
   "execution_count": 140,
   "id": "04ebb596",
   "metadata": {
    "scrolled": true
   },
   "outputs": [
    {
     "data": {
      "text/plain": [
       "array(['0', '$4.99', '$3.99', '$6.99', '$7.99', '$5.99', '$2.99', '$3.49',\n",
       "       '$1.99', '$9.99', '$7.49', '$0.99', '$9.00', '$5.49', '$10.00',\n",
       "       '$24.99', '$11.99', '$79.99', '$16.99', '$14.99', '$29.99',\n",
       "       '$12.99', '$2.49', '$10.99', '$1.50', '$19.99', '$15.99', '$33.99',\n",
       "       '$39.99', '$3.95', '$4.49', '$1.70', '$8.99', '$1.49', '$3.88',\n",
       "       '$399.99', '$17.99', '$400.00', '$3.02', '$1.76', '$4.84', '$4.77',\n",
       "       '$1.61', '$2.50', '$1.59', '$6.49', '$1.29', '$299.99', '$379.99',\n",
       "       '$37.99', '$18.99', '$389.99', '$8.49', '$1.75', '$14.00', '$2.00',\n",
       "       '$3.08', '$2.59', '$19.40', '$3.90', '$4.59', '$15.46', '$3.04',\n",
       "       '$13.99', '$4.29', '$3.28', '$4.60', '$1.00', '$2.95', '$2.90',\n",
       "       '$1.97', '$2.56', '$1.20'], dtype=object)"
      ]
     },
     "execution_count": 140,
     "metadata": {},
     "output_type": "execute_result"
    }
   ],
   "source": [
    "# Checking out what are the grabage values present in data\n",
    "\n",
    "ps_data['Price'].unique()"
   ]
  },
  {
   "cell_type": "code",
   "execution_count": 141,
   "id": "fc6a9fe7",
   "metadata": {},
   "outputs": [],
   "source": [
    "# Now replacing the garbage values \n",
    "\n",
    "ps_data['Price'] = ps_data['Price'].str.replace('.','')\n",
    "ps_data['Price'] = ps_data['Price'].str.replace('$','').astype(int)"
   ]
  },
  {
   "cell_type": "code",
   "execution_count": 142,
   "id": "a8a9a89e",
   "metadata": {},
   "outputs": [
    {
     "data": {
      "text/plain": [
       "array([    0,   499,   399,   699,   799,   599,   299,   349,   199,\n",
       "         999,   749,    99,   900,   549,  1000,  2499,  1199,  7999,\n",
       "        1699,  1499,  2999,  1299,   249,  1099,   150,  1999,  1599,\n",
       "        3399,  3999,   395,   449,   170,   899,   149,   388, 39999,\n",
       "        1799, 40000,   302,   176,   484,   477,   161,   250,   159,\n",
       "         649,   129, 29999, 37999,  3799,  1899, 38999,   849,   175,\n",
       "        1400,   200,   308,   259,  1940,   390,   459,  1546,   304,\n",
       "        1399,   429,   328,   460,   100,   295,   290,   197,   256,\n",
       "         120])"
      ]
     },
     "execution_count": 142,
     "metadata": {},
     "output_type": "execute_result"
    }
   ],
   "source": [
    "# Finally checking the dataset after taking actions \n",
    "\n",
    "ps_data['Price'].unique()"
   ]
  },
  {
   "cell_type": "markdown",
   "id": "4028157b",
   "metadata": {},
   "source": [
    "### 12. Drop the columns which you think redundant for the analysis.(suggestion: drop column 'rating', since we created a new feature from it (i.e. rating_category) and the columns 'App', 'Rating' ,'Genres','Last Updated', 'Current Ver','Android Ver' columns since which are redundant for our analysis)"
   ]
  },
  {
   "cell_type": "code",
   "execution_count": 151,
   "id": "c18c8d84",
   "metadata": {},
   "outputs": [
    {
     "data": {
      "text/plain": [
       "Index(['App', 'Category', 'Rating', 'Reviews', 'Size', 'Installs', 'Type',\n",
       "       'Price', 'Content Rating', 'Genres', 'Last Updated', 'Current Ver',\n",
       "       'Android Ver', 'Rating_category'],\n",
       "      dtype='object')"
      ]
     },
     "execution_count": 151,
     "metadata": {},
     "output_type": "execute_result"
    }
   ],
   "source": [
    "#Getting all the columns of the dataset.\n",
    "\n",
    "ps_data.columns"
   ]
  },
  {
   "cell_type": "code",
   "execution_count": 152,
   "id": "699a64bb",
   "metadata": {},
   "outputs": [],
   "source": [
    "# Dropping the redundant columns from the datset.\n",
    "\n",
    "ps_data.drop([\"App\",\"Rating\",\"Genres\",\"Last Updated\",\"Current Ver\",\"Android Ver\"], axis = 1,inplace = True)"
   ]
  },
  {
   "cell_type": "code",
   "execution_count": 154,
   "id": "f9e79b42",
   "metadata": {},
   "outputs": [
    {
     "data": {
      "text/html": [
       "<div>\n",
       "<style scoped>\n",
       "    .dataframe tbody tr th:only-of-type {\n",
       "        vertical-align: middle;\n",
       "    }\n",
       "\n",
       "    .dataframe tbody tr th {\n",
       "        vertical-align: top;\n",
       "    }\n",
       "\n",
       "    .dataframe thead th {\n",
       "        text-align: right;\n",
       "    }\n",
       "</style>\n",
       "<table border=\"1\" class=\"dataframe\">\n",
       "  <thead>\n",
       "    <tr style=\"text-align: right;\">\n",
       "      <th></th>\n",
       "      <th>Category</th>\n",
       "      <th>Reviews</th>\n",
       "      <th>Size</th>\n",
       "      <th>Installs</th>\n",
       "      <th>Type</th>\n",
       "      <th>Price</th>\n",
       "      <th>Content Rating</th>\n",
       "      <th>Rating_category</th>\n",
       "    </tr>\n",
       "  </thead>\n",
       "  <tbody>\n",
       "    <tr>\n",
       "      <th>0</th>\n",
       "      <td>ART_AND_DESIGN</td>\n",
       "      <td>159</td>\n",
       "      <td>19000000</td>\n",
       "      <td>10000</td>\n",
       "      <td>Free</td>\n",
       "      <td>0</td>\n",
       "      <td>Everyone</td>\n",
       "      <td>high</td>\n",
       "    </tr>\n",
       "    <tr>\n",
       "      <th>1</th>\n",
       "      <td>ART_AND_DESIGN</td>\n",
       "      <td>967</td>\n",
       "      <td>14000000</td>\n",
       "      <td>500000</td>\n",
       "      <td>Free</td>\n",
       "      <td>0</td>\n",
       "      <td>Everyone</td>\n",
       "      <td>high</td>\n",
       "    </tr>\n",
       "    <tr>\n",
       "      <th>2</th>\n",
       "      <td>ART_AND_DESIGN</td>\n",
       "      <td>87510</td>\n",
       "      <td>8.7000000</td>\n",
       "      <td>5000000</td>\n",
       "      <td>Free</td>\n",
       "      <td>0</td>\n",
       "      <td>Everyone</td>\n",
       "      <td>high</td>\n",
       "    </tr>\n",
       "    <tr>\n",
       "      <th>3</th>\n",
       "      <td>ART_AND_DESIGN</td>\n",
       "      <td>215644</td>\n",
       "      <td>25000000</td>\n",
       "      <td>50000000</td>\n",
       "      <td>Free</td>\n",
       "      <td>0</td>\n",
       "      <td>Teen</td>\n",
       "      <td>high</td>\n",
       "    </tr>\n",
       "    <tr>\n",
       "      <th>4</th>\n",
       "      <td>ART_AND_DESIGN</td>\n",
       "      <td>967</td>\n",
       "      <td>2.8000000</td>\n",
       "      <td>100000</td>\n",
       "      <td>Free</td>\n",
       "      <td>0</td>\n",
       "      <td>Everyone</td>\n",
       "      <td>high</td>\n",
       "    </tr>\n",
       "  </tbody>\n",
       "</table>\n",
       "</div>"
      ],
      "text/plain": [
       "         Category  Reviews       Size  Installs  Type  Price Content Rating  \\\n",
       "0  ART_AND_DESIGN      159   19000000     10000  Free      0       Everyone   \n",
       "1  ART_AND_DESIGN      967   14000000    500000  Free      0       Everyone   \n",
       "2  ART_AND_DESIGN    87510  8.7000000   5000000  Free      0       Everyone   \n",
       "3  ART_AND_DESIGN   215644   25000000  50000000  Free      0           Teen   \n",
       "4  ART_AND_DESIGN      967  2.8000000    100000  Free      0       Everyone   \n",
       "\n",
       "  Rating_category  \n",
       "0            high  \n",
       "1            high  \n",
       "2            high  \n",
       "3            high  \n",
       "4            high  "
      ]
     },
     "execution_count": 154,
     "metadata": {},
     "output_type": "execute_result"
    }
   ],
   "source": [
    "# Viewing the top records of data after removing the dataset\n",
    "\n",
    "ps_data.head()"
   ]
  },
  {
   "cell_type": "markdown",
   "id": "a3c8698e",
   "metadata": {},
   "source": [
    "### 13. Encode the categorical columns."
   ]
  },
  {
   "cell_type": "code",
   "execution_count": 156,
   "id": "e9d8234d",
   "metadata": {
    "scrolled": false
   },
   "outputs": [
    {
     "data": {
      "text/html": [
       "<div>\n",
       "<style scoped>\n",
       "    .dataframe tbody tr th:only-of-type {\n",
       "        vertical-align: middle;\n",
       "    }\n",
       "\n",
       "    .dataframe tbody tr th {\n",
       "        vertical-align: top;\n",
       "    }\n",
       "\n",
       "    .dataframe thead th {\n",
       "        text-align: right;\n",
       "    }\n",
       "</style>\n",
       "<table border=\"1\" class=\"dataframe\">\n",
       "  <thead>\n",
       "    <tr style=\"text-align: right;\">\n",
       "      <th></th>\n",
       "      <th>count</th>\n",
       "      <th>unique</th>\n",
       "      <th>top</th>\n",
       "      <th>freq</th>\n",
       "    </tr>\n",
       "  </thead>\n",
       "  <tbody>\n",
       "    <tr>\n",
       "      <th>Category</th>\n",
       "      <td>8892</td>\n",
       "      <td>33</td>\n",
       "      <td>FAMILY</td>\n",
       "      <td>1718</td>\n",
       "    </tr>\n",
       "    <tr>\n",
       "      <th>Size</th>\n",
       "      <td>8892</td>\n",
       "      <td>414</td>\n",
       "      <td>Varies with device</td>\n",
       "      <td>1468</td>\n",
       "    </tr>\n",
       "    <tr>\n",
       "      <th>Type</th>\n",
       "      <td>8892</td>\n",
       "      <td>2</td>\n",
       "      <td>Free</td>\n",
       "      <td>8279</td>\n",
       "    </tr>\n",
       "    <tr>\n",
       "      <th>Content Rating</th>\n",
       "      <td>8892</td>\n",
       "      <td>6</td>\n",
       "      <td>Everyone</td>\n",
       "      <td>7095</td>\n",
       "    </tr>\n",
       "    <tr>\n",
       "      <th>Rating_category</th>\n",
       "      <td>8892</td>\n",
       "      <td>2</td>\n",
       "      <td>high</td>\n",
       "      <td>8012</td>\n",
       "    </tr>\n",
       "  </tbody>\n",
       "</table>\n",
       "</div>"
      ],
      "text/plain": [
       "                count unique                 top  freq\n",
       "Category         8892     33              FAMILY  1718\n",
       "Size             8892    414  Varies with device  1468\n",
       "Type             8892      2                Free  8279\n",
       "Content Rating   8892      6            Everyone  7095\n",
       "Rating_category  8892      2                high  8012"
      ]
     },
     "execution_count": 156,
     "metadata": {},
     "output_type": "execute_result"
    }
   ],
   "source": [
    "# Checking out the Categorical columns\n",
    "\n",
    "ps_data.describe(include = \"O\").T"
   ]
  },
  {
   "cell_type": "markdown",
   "id": "1c484ace",
   "metadata": {},
   "source": [
    "#### Using Label Encoding To Encode Categorical columns.\n",
    "\n",
    "###### 1. Category"
   ]
  },
  {
   "cell_type": "code",
   "execution_count": 159,
   "id": "c81a81e1",
   "metadata": {},
   "outputs": [
    {
     "data": {
      "text/plain": [
       "33"
      ]
     },
     "execution_count": 159,
     "metadata": {},
     "output_type": "execute_result"
    }
   ],
   "source": [
    "# Getting count of Unique categories from Category column.\n",
    "\n",
    "ps_data.Category.nunique()"
   ]
  },
  {
   "cell_type": "code",
   "execution_count": 161,
   "id": "3890b304",
   "metadata": {},
   "outputs": [],
   "source": [
    "# Creating a list of unique categories.\n",
    "\n",
    "categories = list(ps_data[\"Category\"].unique())"
   ]
  },
  {
   "cell_type": "code",
   "execution_count": 162,
   "id": "bd85d378",
   "metadata": {},
   "outputs": [],
   "source": [
    "# Importing LabelEncoder from sklearn library\n",
    "\n",
    "labelencoder = LabelEncoder()"
   ]
  },
  {
   "cell_type": "code",
   "execution_count": 166,
   "id": "0af1c9a4",
   "metadata": {},
   "outputs": [
    {
     "data": {
      "text/plain": [
       "0         0\n",
       "1         0\n",
       "2         0\n",
       "3         0\n",
       "4         0\n",
       "         ..\n",
       "10834    11\n",
       "10836    11\n",
       "10837    11\n",
       "10839     3\n",
       "10840    18\n",
       "Name: Category, Length: 8892, dtype: int64"
      ]
     },
     "execution_count": 166,
     "metadata": {},
     "output_type": "execute_result"
    }
   ],
   "source": [
    "# Transforming the Category Column using Label Encoding.\n",
    "\n",
    "ps_data[\"Category\"] = labelencoder.fit_transform(ps_data[\"Category\"])\n",
    "ps_data[\"Category\"]"
   ]
  },
  {
   "cell_type": "code",
   "execution_count": 168,
   "id": "05e90df6",
   "metadata": {},
   "outputs": [
    {
     "data": {
      "text/plain": [
       "11    1718\n",
       "14    1074\n",
       "29     734\n",
       "25     334\n",
       "12     317\n",
       "23     310\n",
       "6      307\n",
       "18     305\n",
       "24     304\n",
       "20     302\n",
       "28     286\n",
       "4      270\n",
       "15     262\n",
       "27     244\n",
       "21     214\n",
       "30     205\n",
       "26     202\n",
       "3      177\n",
       "31     160\n",
       "7      159\n",
       "8      129\n",
       "19     124\n",
       "9      111\n",
       "13     106\n",
       "32      75\n",
       "1       73\n",
       "16      68\n",
       "17      65\n",
       "0       62\n",
       "5       58\n",
       "22      50\n",
       "10      45\n",
       "2       42\n",
       "Name: Category, dtype: int64"
      ]
     },
     "execution_count": 168,
     "metadata": {},
     "output_type": "execute_result"
    }
   ],
   "source": [
    "# Checking the values of all categories after label Encoding.\n",
    "\n",
    "ps_data.Category.value_counts()"
   ]
  },
  {
   "cell_type": "markdown",
   "id": "14c50458",
   "metadata": {},
   "source": [
    "###### 2. Content Rating"
   ]
  },
  {
   "cell_type": "code",
   "execution_count": 169,
   "id": "be943c78",
   "metadata": {},
   "outputs": [
    {
     "data": {
      "text/plain": [
       "array(['Everyone', 'Teen', 'Everyone 10+', 'Mature 17+',\n",
       "       'Adults only 18+', 'Unrated'], dtype=object)"
      ]
     },
     "execution_count": 169,
     "metadata": {},
     "output_type": "execute_result"
    }
   ],
   "source": [
    "# Getting Unique ratings from Content Rating column.\n",
    "\n",
    "ps_data[\"Content Rating\"].unique()"
   ]
  },
  {
   "cell_type": "code",
   "execution_count": 170,
   "id": "d617cb42",
   "metadata": {},
   "outputs": [],
   "source": [
    "# Transforming the Category Column using Label Encoding.\n",
    "\n",
    "ps_data[\"Content Rating\"] = labelencoder.fit_transform(ps_data[\"Content Rating\"])"
   ]
  },
  {
   "cell_type": "code",
   "execution_count": 171,
   "id": "36d2896f",
   "metadata": {},
   "outputs": [
    {
     "data": {
      "text/plain": [
       "1    7095\n",
       "4    1022\n",
       "3     411\n",
       "2     360\n",
       "0       3\n",
       "5       1\n",
       "Name: Content Rating, dtype: int64"
      ]
     },
     "execution_count": 171,
     "metadata": {},
     "output_type": "execute_result"
    }
   ],
   "source": [
    "# Checking the values of all Content Rating after label Encoding.\n",
    "\n",
    "ps_data[\"Content Rating\"].value_counts()"
   ]
  },
  {
   "cell_type": "markdown",
   "id": "d87c579a",
   "metadata": {},
   "source": [
    "###### 3. Type"
   ]
  },
  {
   "cell_type": "code",
   "execution_count": 172,
   "id": "a959c64c",
   "metadata": {},
   "outputs": [
    {
     "data": {
      "text/plain": [
       "array(['Free', 'Paid'], dtype=object)"
      ]
     },
     "execution_count": 172,
     "metadata": {},
     "output_type": "execute_result"
    }
   ],
   "source": [
    "# Getting Unique types from Type column.\n",
    "\n",
    "ps_data[\"Type\"].unique()"
   ]
  },
  {
   "cell_type": "code",
   "execution_count": 173,
   "id": "d203bc72",
   "metadata": {},
   "outputs": [],
   "source": [
    "# Transforming the Type Column using Label Encoding.\n",
    "\n",
    "ps_data[\"Type\"] = labelencoder.fit_transform(ps_data[\"Type\"])"
   ]
  },
  {
   "cell_type": "code",
   "execution_count": 174,
   "id": "9d6060fd",
   "metadata": {},
   "outputs": [
    {
     "data": {
      "text/plain": [
       "0    8279\n",
       "1     613\n",
       "Name: Type, dtype: int64"
      ]
     },
     "execution_count": 174,
     "metadata": {},
     "output_type": "execute_result"
    }
   ],
   "source": [
    "# Checking the values of all Type after label Encoding.\n",
    "\n",
    "ps_data[\"Type\"].value_counts()"
   ]
  },
  {
   "cell_type": "markdown",
   "id": "53d7621c",
   "metadata": {},
   "source": [
    "###### 4.Rating Category"
   ]
  },
  {
   "cell_type": "code",
   "execution_count": 175,
   "id": "ef8554d8",
   "metadata": {},
   "outputs": [
    {
     "data": {
      "text/plain": [
       "array(['high', 'low'], dtype=object)"
      ]
     },
     "execution_count": 175,
     "metadata": {},
     "output_type": "execute_result"
    }
   ],
   "source": [
    "# Getting Unique categories from Rating_category column.\n",
    "\n",
    "ps_data[\"Rating_category\"].unique()"
   ]
  },
  {
   "cell_type": "code",
   "execution_count": 176,
   "id": "42c11316",
   "metadata": {},
   "outputs": [],
   "source": [
    "# Transforming the Rating_category Column using Label Encoding.\n",
    "\n",
    "ps_data[\"Rating_category\"] = labelencoder.fit_transform(ps_data[\"Rating_category\"])"
   ]
  },
  {
   "cell_type": "code",
   "execution_count": 177,
   "id": "8deecbbc",
   "metadata": {},
   "outputs": [
    {
     "data": {
      "text/plain": [
       "0    8012\n",
       "1     880\n",
       "Name: Rating_category, dtype: int64"
      ]
     },
     "execution_count": 177,
     "metadata": {},
     "output_type": "execute_result"
    }
   ],
   "source": [
    "# Checking the values of all Rating_category after label Encoding.\n",
    "\n",
    "ps_data[\"Rating_category\"].value_counts()"
   ]
  },
  {
   "cell_type": "markdown",
   "id": "47b61436",
   "metadata": {},
   "source": [
    "### 14. Segregate the target and independent features (Hint: Use Rating_category as the target)"
   ]
  },
  {
   "cell_type": "code",
   "execution_count": 179,
   "id": "d31f6f31",
   "metadata": {},
   "outputs": [
    {
     "data": {
      "text/html": [
       "<div>\n",
       "<style scoped>\n",
       "    .dataframe tbody tr th:only-of-type {\n",
       "        vertical-align: middle;\n",
       "    }\n",
       "\n",
       "    .dataframe tbody tr th {\n",
       "        vertical-align: top;\n",
       "    }\n",
       "\n",
       "    .dataframe thead th {\n",
       "        text-align: right;\n",
       "    }\n",
       "</style>\n",
       "<table border=\"1\" class=\"dataframe\">\n",
       "  <thead>\n",
       "    <tr style=\"text-align: right;\">\n",
       "      <th></th>\n",
       "      <th>Category</th>\n",
       "      <th>Reviews</th>\n",
       "      <th>Size</th>\n",
       "      <th>Installs</th>\n",
       "      <th>Type</th>\n",
       "      <th>Price</th>\n",
       "      <th>Content Rating</th>\n",
       "    </tr>\n",
       "  </thead>\n",
       "  <tbody>\n",
       "    <tr>\n",
       "      <th>0</th>\n",
       "      <td>0</td>\n",
       "      <td>159</td>\n",
       "      <td>19000000</td>\n",
       "      <td>10000</td>\n",
       "      <td>0</td>\n",
       "      <td>0</td>\n",
       "      <td>1</td>\n",
       "    </tr>\n",
       "    <tr>\n",
       "      <th>1</th>\n",
       "      <td>0</td>\n",
       "      <td>967</td>\n",
       "      <td>14000000</td>\n",
       "      <td>500000</td>\n",
       "      <td>0</td>\n",
       "      <td>0</td>\n",
       "      <td>1</td>\n",
       "    </tr>\n",
       "    <tr>\n",
       "      <th>2</th>\n",
       "      <td>0</td>\n",
       "      <td>87510</td>\n",
       "      <td>8.7000000</td>\n",
       "      <td>5000000</td>\n",
       "      <td>0</td>\n",
       "      <td>0</td>\n",
       "      <td>1</td>\n",
       "    </tr>\n",
       "    <tr>\n",
       "      <th>3</th>\n",
       "      <td>0</td>\n",
       "      <td>215644</td>\n",
       "      <td>25000000</td>\n",
       "      <td>50000000</td>\n",
       "      <td>0</td>\n",
       "      <td>0</td>\n",
       "      <td>4</td>\n",
       "    </tr>\n",
       "    <tr>\n",
       "      <th>4</th>\n",
       "      <td>0</td>\n",
       "      <td>967</td>\n",
       "      <td>2.8000000</td>\n",
       "      <td>100000</td>\n",
       "      <td>0</td>\n",
       "      <td>0</td>\n",
       "      <td>1</td>\n",
       "    </tr>\n",
       "    <tr>\n",
       "      <th>...</th>\n",
       "      <td>...</td>\n",
       "      <td>...</td>\n",
       "      <td>...</td>\n",
       "      <td>...</td>\n",
       "      <td>...</td>\n",
       "      <td>...</td>\n",
       "      <td>...</td>\n",
       "    </tr>\n",
       "    <tr>\n",
       "      <th>10834</th>\n",
       "      <td>11</td>\n",
       "      <td>7</td>\n",
       "      <td>2.6000000</td>\n",
       "      <td>500</td>\n",
       "      <td>0</td>\n",
       "      <td>0</td>\n",
       "      <td>1</td>\n",
       "    </tr>\n",
       "    <tr>\n",
       "      <th>10836</th>\n",
       "      <td>11</td>\n",
       "      <td>38</td>\n",
       "      <td>53000000</td>\n",
       "      <td>5000</td>\n",
       "      <td>0</td>\n",
       "      <td>0</td>\n",
       "      <td>1</td>\n",
       "    </tr>\n",
       "    <tr>\n",
       "      <th>10837</th>\n",
       "      <td>11</td>\n",
       "      <td>4</td>\n",
       "      <td>3.6000000</td>\n",
       "      <td>100</td>\n",
       "      <td>0</td>\n",
       "      <td>0</td>\n",
       "      <td>1</td>\n",
       "    </tr>\n",
       "    <tr>\n",
       "      <th>10839</th>\n",
       "      <td>3</td>\n",
       "      <td>114</td>\n",
       "      <td>Varies with device</td>\n",
       "      <td>1000</td>\n",
       "      <td>0</td>\n",
       "      <td>0</td>\n",
       "      <td>3</td>\n",
       "    </tr>\n",
       "    <tr>\n",
       "      <th>10840</th>\n",
       "      <td>18</td>\n",
       "      <td>398307</td>\n",
       "      <td>19000000</td>\n",
       "      <td>10000000</td>\n",
       "      <td>0</td>\n",
       "      <td>0</td>\n",
       "      <td>1</td>\n",
       "    </tr>\n",
       "  </tbody>\n",
       "</table>\n",
       "<p>8892 rows × 7 columns</p>\n",
       "</div>"
      ],
      "text/plain": [
       "       Category  Reviews                Size  Installs  Type  Price  \\\n",
       "0             0      159            19000000     10000     0      0   \n",
       "1             0      967            14000000    500000     0      0   \n",
       "2             0    87510           8.7000000   5000000     0      0   \n",
       "3             0   215644            25000000  50000000     0      0   \n",
       "4             0      967           2.8000000    100000     0      0   \n",
       "...         ...      ...                 ...       ...   ...    ...   \n",
       "10834        11        7           2.6000000       500     0      0   \n",
       "10836        11       38            53000000      5000     0      0   \n",
       "10837        11        4           3.6000000       100     0      0   \n",
       "10839         3      114  Varies with device      1000     0      0   \n",
       "10840        18   398307            19000000  10000000     0      0   \n",
       "\n",
       "       Content Rating  \n",
       "0                   1  \n",
       "1                   1  \n",
       "2                   1  \n",
       "3                   4  \n",
       "4                   1  \n",
       "...               ...  \n",
       "10834               1  \n",
       "10836               1  \n",
       "10837               1  \n",
       "10839               3  \n",
       "10840               1  \n",
       "\n",
       "[8892 rows x 7 columns]"
      ]
     },
     "execution_count": 179,
     "metadata": {},
     "output_type": "execute_result"
    }
   ],
   "source": [
    "# Creating variable X with all Independent Variables.\n",
    "\n",
    "X = ps_data.drop(\"Rating_category\", axis=1)\n",
    "X"
   ]
  },
  {
   "cell_type": "code",
   "execution_count": 180,
   "id": "4e17282e",
   "metadata": {},
   "outputs": [
    {
     "data": {
      "text/html": [
       "<div>\n",
       "<style scoped>\n",
       "    .dataframe tbody tr th:only-of-type {\n",
       "        vertical-align: middle;\n",
       "    }\n",
       "\n",
       "    .dataframe tbody tr th {\n",
       "        vertical-align: top;\n",
       "    }\n",
       "\n",
       "    .dataframe thead th {\n",
       "        text-align: right;\n",
       "    }\n",
       "</style>\n",
       "<table border=\"1\" class=\"dataframe\">\n",
       "  <thead>\n",
       "    <tr style=\"text-align: right;\">\n",
       "      <th></th>\n",
       "      <th>Rating_category</th>\n",
       "    </tr>\n",
       "  </thead>\n",
       "  <tbody>\n",
       "    <tr>\n",
       "      <th>0</th>\n",
       "      <td>0</td>\n",
       "    </tr>\n",
       "    <tr>\n",
       "      <th>1</th>\n",
       "      <td>0</td>\n",
       "    </tr>\n",
       "    <tr>\n",
       "      <th>2</th>\n",
       "      <td>0</td>\n",
       "    </tr>\n",
       "    <tr>\n",
       "      <th>3</th>\n",
       "      <td>0</td>\n",
       "    </tr>\n",
       "    <tr>\n",
       "      <th>4</th>\n",
       "      <td>0</td>\n",
       "    </tr>\n",
       "    <tr>\n",
       "      <th>...</th>\n",
       "      <td>...</td>\n",
       "    </tr>\n",
       "    <tr>\n",
       "      <th>10834</th>\n",
       "      <td>0</td>\n",
       "    </tr>\n",
       "    <tr>\n",
       "      <th>10836</th>\n",
       "      <td>0</td>\n",
       "    </tr>\n",
       "    <tr>\n",
       "      <th>10837</th>\n",
       "      <td>0</td>\n",
       "    </tr>\n",
       "    <tr>\n",
       "      <th>10839</th>\n",
       "      <td>0</td>\n",
       "    </tr>\n",
       "    <tr>\n",
       "      <th>10840</th>\n",
       "      <td>0</td>\n",
       "    </tr>\n",
       "  </tbody>\n",
       "</table>\n",
       "<p>8892 rows × 1 columns</p>\n",
       "</div>"
      ],
      "text/plain": [
       "       Rating_category\n",
       "0                    0\n",
       "1                    0\n",
       "2                    0\n",
       "3                    0\n",
       "4                    0\n",
       "...                ...\n",
       "10834                0\n",
       "10836                0\n",
       "10837                0\n",
       "10839                0\n",
       "10840                0\n",
       "\n",
       "[8892 rows x 1 columns]"
      ]
     },
     "execution_count": 180,
     "metadata": {},
     "output_type": "execute_result"
    }
   ],
   "source": [
    "# Creating variable Y with Dependent Variable.\n",
    "\n",
    "Y = ps_data[[\"Rating_category\"]]\n",
    "Y"
   ]
  },
  {
   "cell_type": "markdown",
   "id": "6355feb9",
   "metadata": {},
   "source": [
    "### 15. Split the dataset into train and test."
   ]
  },
  {
   "cell_type": "code",
   "execution_count": 182,
   "id": "8bda6621",
   "metadata": {},
   "outputs": [],
   "source": [
    "#Spliting the data set into Train and Test.\n",
    "\n",
    "X_train, X_test, Y_train, Y_test = train_test_split(X, Y, test_size=0.30 , random_state=1)"
   ]
  },
  {
   "cell_type": "code",
   "execution_count": 184,
   "id": "72168f9d",
   "metadata": {},
   "outputs": [
    {
     "name": "stdout",
     "output_type": "stream",
     "text": [
      "X_train\n"
     ]
    },
    {
     "data": {
      "text/html": [
       "<div>\n",
       "<style scoped>\n",
       "    .dataframe tbody tr th:only-of-type {\n",
       "        vertical-align: middle;\n",
       "    }\n",
       "\n",
       "    .dataframe tbody tr th {\n",
       "        vertical-align: top;\n",
       "    }\n",
       "\n",
       "    .dataframe thead th {\n",
       "        text-align: right;\n",
       "    }\n",
       "</style>\n",
       "<table border=\"1\" class=\"dataframe\">\n",
       "  <thead>\n",
       "    <tr style=\"text-align: right;\">\n",
       "      <th></th>\n",
       "      <th>Category</th>\n",
       "      <th>Reviews</th>\n",
       "      <th>Size</th>\n",
       "      <th>Installs</th>\n",
       "      <th>Type</th>\n",
       "      <th>Price</th>\n",
       "      <th>Content Rating</th>\n",
       "    </tr>\n",
       "  </thead>\n",
       "  <tbody>\n",
       "    <tr>\n",
       "      <th>9624</th>\n",
       "      <td>21</td>\n",
       "      <td>47069</td>\n",
       "      <td>Varies with device</td>\n",
       "      <td>5000000</td>\n",
       "      <td>0</td>\n",
       "      <td>0</td>\n",
       "      <td>2</td>\n",
       "    </tr>\n",
       "    <tr>\n",
       "      <th>4058</th>\n",
       "      <td>23</td>\n",
       "      <td>10158</td>\n",
       "      <td>3.6000000</td>\n",
       "      <td>500000</td>\n",
       "      <td>0</td>\n",
       "      <td>0</td>\n",
       "      <td>1</td>\n",
       "    </tr>\n",
       "    <tr>\n",
       "      <th>8812</th>\n",
       "      <td>29</td>\n",
       "      <td>4908</td>\n",
       "      <td>38000000</td>\n",
       "      <td>500000</td>\n",
       "      <td>0</td>\n",
       "      <td>0</td>\n",
       "      <td>1</td>\n",
       "    </tr>\n",
       "    <tr>\n",
       "      <th>10593</th>\n",
       "      <td>18</td>\n",
       "      <td>40</td>\n",
       "      <td>8.0000000</td>\n",
       "      <td>1000</td>\n",
       "      <td>0</td>\n",
       "      <td>0</td>\n",
       "      <td>4</td>\n",
       "    </tr>\n",
       "    <tr>\n",
       "      <th>6511</th>\n",
       "      <td>12</td>\n",
       "      <td>72</td>\n",
       "      <td>2.4000000</td>\n",
       "      <td>10000</td>\n",
       "      <td>0</td>\n",
       "      <td>0</td>\n",
       "      <td>1</td>\n",
       "    </tr>\n",
       "    <tr>\n",
       "      <th>...</th>\n",
       "      <td>...</td>\n",
       "      <td>...</td>\n",
       "      <td>...</td>\n",
       "      <td>...</td>\n",
       "      <td>...</td>\n",
       "      <td>...</td>\n",
       "      <td>...</td>\n",
       "    </tr>\n",
       "    <tr>\n",
       "      <th>3448</th>\n",
       "      <td>23</td>\n",
       "      <td>115773</td>\n",
       "      <td>Varies with device</td>\n",
       "      <td>10000000</td>\n",
       "      <td>0</td>\n",
       "      <td>0</td>\n",
       "      <td>1</td>\n",
       "    </tr>\n",
       "    <tr>\n",
       "      <th>9433</th>\n",
       "      <td>11</td>\n",
       "      <td>85</td>\n",
       "      <td>2.1000000</td>\n",
       "      <td>10000</td>\n",
       "      <td>0</td>\n",
       "      <td>0</td>\n",
       "      <td>1</td>\n",
       "    </tr>\n",
       "    <tr>\n",
       "      <th>1116</th>\n",
       "      <td>12</td>\n",
       "      <td>25166</td>\n",
       "      <td>11000000</td>\n",
       "      <td>1000000</td>\n",
       "      <td>0</td>\n",
       "      <td>0</td>\n",
       "      <td>1</td>\n",
       "    </tr>\n",
       "    <tr>\n",
       "      <th>6039</th>\n",
       "      <td>29</td>\n",
       "      <td>1988</td>\n",
       "      <td>7.3000000</td>\n",
       "      <td>500000</td>\n",
       "      <td>0</td>\n",
       "      <td>0</td>\n",
       "      <td>1</td>\n",
       "    </tr>\n",
       "    <tr>\n",
       "      <th>249</th>\n",
       "      <td>4</td>\n",
       "      <td>78662</td>\n",
       "      <td>22000000</td>\n",
       "      <td>1000000</td>\n",
       "      <td>0</td>\n",
       "      <td>0</td>\n",
       "      <td>1</td>\n",
       "    </tr>\n",
       "  </tbody>\n",
       "</table>\n",
       "<p>6224 rows × 7 columns</p>\n",
       "</div>"
      ],
      "text/plain": [
       "       Category  Reviews                Size  Installs  Type  Price  \\\n",
       "9624         21    47069  Varies with device   5000000     0      0   \n",
       "4058         23    10158           3.6000000    500000     0      0   \n",
       "8812         29     4908            38000000    500000     0      0   \n",
       "10593        18       40           8.0000000      1000     0      0   \n",
       "6511         12       72           2.4000000     10000     0      0   \n",
       "...         ...      ...                 ...       ...   ...    ...   \n",
       "3448         23   115773  Varies with device  10000000     0      0   \n",
       "9433         11       85           2.1000000     10000     0      0   \n",
       "1116         12    25166            11000000   1000000     0      0   \n",
       "6039         29     1988           7.3000000    500000     0      0   \n",
       "249           4    78662            22000000   1000000     0      0   \n",
       "\n",
       "       Content Rating  \n",
       "9624                2  \n",
       "4058                1  \n",
       "8812                1  \n",
       "10593               4  \n",
       "6511                1  \n",
       "...               ...  \n",
       "3448                1  \n",
       "9433                1  \n",
       "1116                1  \n",
       "6039                1  \n",
       "249                 1  \n",
       "\n",
       "[6224 rows x 7 columns]"
      ]
     },
     "execution_count": 184,
     "metadata": {},
     "output_type": "execute_result"
    }
   ],
   "source": [
    "# printing the required output\n",
    "\n",
    "print(\"X_train\")\n",
    "X_train"
   ]
  },
  {
   "cell_type": "code",
   "execution_count": 185,
   "id": "78b5cbce",
   "metadata": {},
   "outputs": [
    {
     "name": "stdout",
     "output_type": "stream",
     "text": [
      "X_test\n"
     ]
    },
    {
     "data": {
      "text/html": [
       "<div>\n",
       "<style scoped>\n",
       "    .dataframe tbody tr th:only-of-type {\n",
       "        vertical-align: middle;\n",
       "    }\n",
       "\n",
       "    .dataframe tbody tr th {\n",
       "        vertical-align: top;\n",
       "    }\n",
       "\n",
       "    .dataframe thead th {\n",
       "        text-align: right;\n",
       "    }\n",
       "</style>\n",
       "<table border=\"1\" class=\"dataframe\">\n",
       "  <thead>\n",
       "    <tr style=\"text-align: right;\">\n",
       "      <th></th>\n",
       "      <th>Category</th>\n",
       "      <th>Reviews</th>\n",
       "      <th>Size</th>\n",
       "      <th>Installs</th>\n",
       "      <th>Type</th>\n",
       "      <th>Price</th>\n",
       "      <th>Content Rating</th>\n",
       "    </tr>\n",
       "  </thead>\n",
       "  <tbody>\n",
       "    <tr>\n",
       "      <th>1222</th>\n",
       "      <td>13</td>\n",
       "      <td>1962</td>\n",
       "      <td>22000000</td>\n",
       "      <td>100000</td>\n",
       "      <td>0</td>\n",
       "      <td>0</td>\n",
       "      <td>1</td>\n",
       "    </tr>\n",
       "    <tr>\n",
       "      <th>2060</th>\n",
       "      <td>11</td>\n",
       "      <td>4207</td>\n",
       "      <td>26000000</td>\n",
       "      <td>100000</td>\n",
       "      <td>0</td>\n",
       "      <td>0</td>\n",
       "      <td>1</td>\n",
       "    </tr>\n",
       "    <tr>\n",
       "      <th>3885</th>\n",
       "      <td>14</td>\n",
       "      <td>1728557</td>\n",
       "      <td>Varies with device</td>\n",
       "      <td>50000000</td>\n",
       "      <td>0</td>\n",
       "      <td>0</td>\n",
       "      <td>1</td>\n",
       "    </tr>\n",
       "    <tr>\n",
       "      <th>5089</th>\n",
       "      <td>25</td>\n",
       "      <td>85</td>\n",
       "      <td>44000000</td>\n",
       "      <td>10000</td>\n",
       "      <td>0</td>\n",
       "      <td>0</td>\n",
       "      <td>1</td>\n",
       "    </tr>\n",
       "    <tr>\n",
       "      <th>6056</th>\n",
       "      <td>15</td>\n",
       "      <td>787</td>\n",
       "      <td>53000000</td>\n",
       "      <td>1000</td>\n",
       "      <td>1</td>\n",
       "      <td>199</td>\n",
       "      <td>1</td>\n",
       "    </tr>\n",
       "    <tr>\n",
       "      <th>...</th>\n",
       "      <td>...</td>\n",
       "      <td>...</td>\n",
       "      <td>...</td>\n",
       "      <td>...</td>\n",
       "      <td>...</td>\n",
       "      <td>...</td>\n",
       "      <td>...</td>\n",
       "    </tr>\n",
       "    <tr>\n",
       "      <th>9717</th>\n",
       "      <td>11</td>\n",
       "      <td>11</td>\n",
       "      <td>20000000</td>\n",
       "      <td>500</td>\n",
       "      <td>1</td>\n",
       "      <td>199</td>\n",
       "      <td>2</td>\n",
       "    </tr>\n",
       "    <tr>\n",
       "      <th>6772</th>\n",
       "      <td>4</td>\n",
       "      <td>8</td>\n",
       "      <td>2.6000000</td>\n",
       "      <td>5000</td>\n",
       "      <td>0</td>\n",
       "      <td>0</td>\n",
       "      <td>1</td>\n",
       "    </tr>\n",
       "    <tr>\n",
       "      <th>1690</th>\n",
       "      <td>14</td>\n",
       "      <td>4128732</td>\n",
       "      <td>Varies with device</td>\n",
       "      <td>50000000</td>\n",
       "      <td>0</td>\n",
       "      <td>0</td>\n",
       "      <td>1</td>\n",
       "    </tr>\n",
       "    <tr>\n",
       "      <th>3872</th>\n",
       "      <td>11</td>\n",
       "      <td>886418</td>\n",
       "      <td>6.5000000</td>\n",
       "      <td>50000000</td>\n",
       "      <td>0</td>\n",
       "      <td>0</td>\n",
       "      <td>1</td>\n",
       "    </tr>\n",
       "    <tr>\n",
       "      <th>8410</th>\n",
       "      <td>11</td>\n",
       "      <td>1130</td>\n",
       "      <td>48000000</td>\n",
       "      <td>50000</td>\n",
       "      <td>0</td>\n",
       "      <td>0</td>\n",
       "      <td>4</td>\n",
       "    </tr>\n",
       "  </tbody>\n",
       "</table>\n",
       "<p>2668 rows × 7 columns</p>\n",
       "</div>"
      ],
      "text/plain": [
       "      Category  Reviews                Size  Installs  Type  Price  \\\n",
       "1222        13     1962            22000000    100000     0      0   \n",
       "2060        11     4207            26000000    100000     0      0   \n",
       "3885        14  1728557  Varies with device  50000000     0      0   \n",
       "5089        25       85            44000000     10000     0      0   \n",
       "6056        15      787            53000000      1000     1    199   \n",
       "...        ...      ...                 ...       ...   ...    ...   \n",
       "9717        11       11            20000000       500     1    199   \n",
       "6772         4        8           2.6000000      5000     0      0   \n",
       "1690        14  4128732  Varies with device  50000000     0      0   \n",
       "3872        11   886418           6.5000000  50000000     0      0   \n",
       "8410        11     1130            48000000     50000     0      0   \n",
       "\n",
       "      Content Rating  \n",
       "1222               1  \n",
       "2060               1  \n",
       "3885               1  \n",
       "5089               1  \n",
       "6056               1  \n",
       "...              ...  \n",
       "9717               2  \n",
       "6772               1  \n",
       "1690               1  \n",
       "3872               1  \n",
       "8410               4  \n",
       "\n",
       "[2668 rows x 7 columns]"
      ]
     },
     "execution_count": 185,
     "metadata": {},
     "output_type": "execute_result"
    }
   ],
   "source": [
    "print(\"X_test\")\n",
    "X_test"
   ]
  },
  {
   "cell_type": "code",
   "execution_count": 186,
   "id": "a8c1ea02",
   "metadata": {},
   "outputs": [
    {
     "name": "stdout",
     "output_type": "stream",
     "text": [
      "Y_train\n"
     ]
    },
    {
     "data": {
      "text/html": [
       "<div>\n",
       "<style scoped>\n",
       "    .dataframe tbody tr th:only-of-type {\n",
       "        vertical-align: middle;\n",
       "    }\n",
       "\n",
       "    .dataframe tbody tr th {\n",
       "        vertical-align: top;\n",
       "    }\n",
       "\n",
       "    .dataframe thead th {\n",
       "        text-align: right;\n",
       "    }\n",
       "</style>\n",
       "<table border=\"1\" class=\"dataframe\">\n",
       "  <thead>\n",
       "    <tr style=\"text-align: right;\">\n",
       "      <th></th>\n",
       "      <th>Rating_category</th>\n",
       "    </tr>\n",
       "  </thead>\n",
       "  <tbody>\n",
       "    <tr>\n",
       "      <th>9624</th>\n",
       "      <td>0</td>\n",
       "    </tr>\n",
       "    <tr>\n",
       "      <th>4058</th>\n",
       "      <td>0</td>\n",
       "    </tr>\n",
       "    <tr>\n",
       "      <th>8812</th>\n",
       "      <td>1</td>\n",
       "    </tr>\n",
       "    <tr>\n",
       "      <th>10593</th>\n",
       "      <td>0</td>\n",
       "    </tr>\n",
       "    <tr>\n",
       "      <th>6511</th>\n",
       "      <td>1</td>\n",
       "    </tr>\n",
       "    <tr>\n",
       "      <th>...</th>\n",
       "      <td>...</td>\n",
       "    </tr>\n",
       "    <tr>\n",
       "      <th>3448</th>\n",
       "      <td>0</td>\n",
       "    </tr>\n",
       "    <tr>\n",
       "      <th>9433</th>\n",
       "      <td>1</td>\n",
       "    </tr>\n",
       "    <tr>\n",
       "      <th>1116</th>\n",
       "      <td>0</td>\n",
       "    </tr>\n",
       "    <tr>\n",
       "      <th>6039</th>\n",
       "      <td>1</td>\n",
       "    </tr>\n",
       "    <tr>\n",
       "      <th>249</th>\n",
       "      <td>0</td>\n",
       "    </tr>\n",
       "  </tbody>\n",
       "</table>\n",
       "<p>6224 rows × 1 columns</p>\n",
       "</div>"
      ],
      "text/plain": [
       "       Rating_category\n",
       "9624                 0\n",
       "4058                 0\n",
       "8812                 1\n",
       "10593                0\n",
       "6511                 1\n",
       "...                ...\n",
       "3448                 0\n",
       "9433                 1\n",
       "1116                 0\n",
       "6039                 1\n",
       "249                  0\n",
       "\n",
       "[6224 rows x 1 columns]"
      ]
     },
     "execution_count": 186,
     "metadata": {},
     "output_type": "execute_result"
    }
   ],
   "source": [
    "print(\"Y_train\")\n",
    "Y_train"
   ]
  },
  {
   "cell_type": "code",
   "execution_count": 187,
   "id": "7dc8fef0",
   "metadata": {},
   "outputs": [
    {
     "name": "stdout",
     "output_type": "stream",
     "text": [
      "Y_test\n"
     ]
    },
    {
     "data": {
      "text/html": [
       "<div>\n",
       "<style scoped>\n",
       "    .dataframe tbody tr th:only-of-type {\n",
       "        vertical-align: middle;\n",
       "    }\n",
       "\n",
       "    .dataframe tbody tr th {\n",
       "        vertical-align: top;\n",
       "    }\n",
       "\n",
       "    .dataframe thead th {\n",
       "        text-align: right;\n",
       "    }\n",
       "</style>\n",
       "<table border=\"1\" class=\"dataframe\">\n",
       "  <thead>\n",
       "    <tr style=\"text-align: right;\">\n",
       "      <th></th>\n",
       "      <th>Rating_category</th>\n",
       "    </tr>\n",
       "  </thead>\n",
       "  <tbody>\n",
       "    <tr>\n",
       "      <th>1222</th>\n",
       "      <td>0</td>\n",
       "    </tr>\n",
       "    <tr>\n",
       "      <th>2060</th>\n",
       "      <td>0</td>\n",
       "    </tr>\n",
       "    <tr>\n",
       "      <th>3885</th>\n",
       "      <td>0</td>\n",
       "    </tr>\n",
       "    <tr>\n",
       "      <th>5089</th>\n",
       "      <td>0</td>\n",
       "    </tr>\n",
       "    <tr>\n",
       "      <th>6056</th>\n",
       "      <td>0</td>\n",
       "    </tr>\n",
       "    <tr>\n",
       "      <th>...</th>\n",
       "      <td>...</td>\n",
       "    </tr>\n",
       "    <tr>\n",
       "      <th>9717</th>\n",
       "      <td>0</td>\n",
       "    </tr>\n",
       "    <tr>\n",
       "      <th>6772</th>\n",
       "      <td>0</td>\n",
       "    </tr>\n",
       "    <tr>\n",
       "      <th>1690</th>\n",
       "      <td>0</td>\n",
       "    </tr>\n",
       "    <tr>\n",
       "      <th>3872</th>\n",
       "      <td>0</td>\n",
       "    </tr>\n",
       "    <tr>\n",
       "      <th>8410</th>\n",
       "      <td>0</td>\n",
       "    </tr>\n",
       "  </tbody>\n",
       "</table>\n",
       "<p>2668 rows × 1 columns</p>\n",
       "</div>"
      ],
      "text/plain": [
       "      Rating_category\n",
       "1222                0\n",
       "2060                0\n",
       "3885                0\n",
       "5089                0\n",
       "6056                0\n",
       "...               ...\n",
       "9717                0\n",
       "6772                0\n",
       "1690                0\n",
       "3872                0\n",
       "8410                0\n",
       "\n",
       "[2668 rows x 1 columns]"
      ]
     },
     "execution_count": 187,
     "metadata": {},
     "output_type": "execute_result"
    }
   ],
   "source": [
    "print(\"Y_test\")\n",
    "Y_test"
   ]
  },
  {
   "cell_type": "markdown",
   "id": "adefc1c2",
   "metadata": {},
   "source": [
    "### 16. Standardize the data, so that the values are within a particular range."
   ]
  },
  {
   "cell_type": "markdown",
   "id": "a04c04e5",
   "metadata": {},
   "source": [
    "#### Since the columns named as Size, Installs, Price are of object data type, we need to convert the data to int dtype in order to perform Standardizing"
   ]
  },
  {
   "cell_type": "code",
   "execution_count": 211,
   "id": "38ad1117",
   "metadata": {},
   "outputs": [],
   "source": [
    "# found this unique value in data so replacing it with the random value\n",
    "\n",
    "ps_data['Size'] = ps_data['Size'].str.replace('Varies with device','19000000')"
   ]
  },
  {
   "cell_type": "code",
   "execution_count": 200,
   "id": "df9f2efb",
   "metadata": {},
   "outputs": [],
   "source": [
    "#defining standard scaler\n",
    "\n",
    "scaler = StandardScaler()"
   ]
  },
  {
   "cell_type": "code",
   "execution_count": 212,
   "id": "c694f4d1",
   "metadata": {},
   "outputs": [],
   "source": [
    "# Performing Standardization of data\n",
    "\n",
    "ps_data = scaler.fit_transform(ps_data)"
   ]
  },
  {
   "cell_type": "code",
   "execution_count": 213,
   "id": "29653cfd",
   "metadata": {},
   "outputs": [
    {
     "data": {
      "text/plain": [
       "array([[-2.0332296 , -0.16269726,  0.06629284, ..., -0.05949647,\n",
       "        -0.47001772, -0.33141401],\n",
       "       [-2.0332296 , -0.1624191 , -0.14172536, ..., -0.05949647,\n",
       "        -0.47001772, -0.33141401],\n",
       "       [-2.0332296 , -0.13262691, -0.72417598, ..., -0.05949647,\n",
       "        -0.47001772, -0.33141401],\n",
       "       ...,\n",
       "       [-0.70414943, -0.16275061, -0.72417619, ..., -0.05949647,\n",
       "        -0.47001772, -0.33141401],\n",
       "       [-1.67075319, -0.16271275, -0.72417634, ..., -0.05949647,\n",
       "         1.49722049, -0.33141401],\n",
       "       [ 0.14162887, -0.02563588,  0.06629284, ..., -0.05949647,\n",
       "        -0.47001772, -0.33141401]])"
      ]
     },
     "execution_count": 213,
     "metadata": {},
     "output_type": "execute_result"
    }
   ],
   "source": [
    "ps_data"
   ]
  },
  {
   "cell_type": "code",
   "execution_count": 215,
   "id": "0ab6f939",
   "metadata": {},
   "outputs": [],
   "source": [
    "# Converting Array's back to Pandas DataFrame.\n",
    "\n",
    "ps_data = pd.DataFrame(ps_data)"
   ]
  },
  {
   "cell_type": "code",
   "execution_count": 216,
   "id": "27868d1d",
   "metadata": {},
   "outputs": [
    {
     "data": {
      "text/html": [
       "<div>\n",
       "<style scoped>\n",
       "    .dataframe tbody tr th:only-of-type {\n",
       "        vertical-align: middle;\n",
       "    }\n",
       "\n",
       "    .dataframe tbody tr th {\n",
       "        vertical-align: top;\n",
       "    }\n",
       "\n",
       "    .dataframe thead th {\n",
       "        text-align: right;\n",
       "    }\n",
       "</style>\n",
       "<table border=\"1\" class=\"dataframe\">\n",
       "  <thead>\n",
       "    <tr style=\"text-align: right;\">\n",
       "      <th></th>\n",
       "      <th>0</th>\n",
       "      <th>1</th>\n",
       "      <th>2</th>\n",
       "      <th>3</th>\n",
       "      <th>4</th>\n",
       "      <th>5</th>\n",
       "      <th>6</th>\n",
       "      <th>7</th>\n",
       "    </tr>\n",
       "  </thead>\n",
       "  <tbody>\n",
       "    <tr>\n",
       "      <th>0</th>\n",
       "      <td>-2.033230</td>\n",
       "      <td>-0.162697</td>\n",
       "      <td>0.066293</td>\n",
       "      <td>-0.190800</td>\n",
       "      <td>-0.272108</td>\n",
       "      <td>-0.059496</td>\n",
       "      <td>-0.470018</td>\n",
       "      <td>-0.331414</td>\n",
       "    </tr>\n",
       "    <tr>\n",
       "      <th>1</th>\n",
       "      <td>-2.033230</td>\n",
       "      <td>-0.162419</td>\n",
       "      <td>-0.141725</td>\n",
       "      <td>-0.185127</td>\n",
       "      <td>-0.272108</td>\n",
       "      <td>-0.059496</td>\n",
       "      <td>-0.470018</td>\n",
       "      <td>-0.331414</td>\n",
       "    </tr>\n",
       "    <tr>\n",
       "      <th>2</th>\n",
       "      <td>-2.033230</td>\n",
       "      <td>-0.132627</td>\n",
       "      <td>-0.724176</td>\n",
       "      <td>-0.133026</td>\n",
       "      <td>-0.272108</td>\n",
       "      <td>-0.059496</td>\n",
       "      <td>-0.470018</td>\n",
       "      <td>-0.331414</td>\n",
       "    </tr>\n",
       "    <tr>\n",
       "      <th>3</th>\n",
       "      <td>-2.033230</td>\n",
       "      <td>-0.088517</td>\n",
       "      <td>0.315915</td>\n",
       "      <td>0.387981</td>\n",
       "      <td>-0.272108</td>\n",
       "      <td>-0.059496</td>\n",
       "      <td>2.480840</td>\n",
       "      <td>-0.331414</td>\n",
       "    </tr>\n",
       "    <tr>\n",
       "      <th>4</th>\n",
       "      <td>-2.033230</td>\n",
       "      <td>-0.162419</td>\n",
       "      <td>-0.724176</td>\n",
       "      <td>-0.189758</td>\n",
       "      <td>-0.272108</td>\n",
       "      <td>-0.059496</td>\n",
       "      <td>-0.470018</td>\n",
       "      <td>-0.331414</td>\n",
       "    </tr>\n",
       "    <tr>\n",
       "      <th>...</th>\n",
       "      <td>...</td>\n",
       "      <td>...</td>\n",
       "      <td>...</td>\n",
       "      <td>...</td>\n",
       "      <td>...</td>\n",
       "      <td>...</td>\n",
       "      <td>...</td>\n",
       "      <td>...</td>\n",
       "    </tr>\n",
       "    <tr>\n",
       "      <th>8887</th>\n",
       "      <td>-0.704149</td>\n",
       "      <td>-0.162750</td>\n",
       "      <td>-0.724176</td>\n",
       "      <td>-0.190910</td>\n",
       "      <td>-0.272108</td>\n",
       "      <td>-0.059496</td>\n",
       "      <td>-0.470018</td>\n",
       "      <td>-0.331414</td>\n",
       "    </tr>\n",
       "    <tr>\n",
       "      <th>8888</th>\n",
       "      <td>-0.704149</td>\n",
       "      <td>-0.162739</td>\n",
       "      <td>1.480817</td>\n",
       "      <td>-0.190858</td>\n",
       "      <td>-0.272108</td>\n",
       "      <td>-0.059496</td>\n",
       "      <td>-0.470018</td>\n",
       "      <td>-0.331414</td>\n",
       "    </tr>\n",
       "    <tr>\n",
       "      <th>8889</th>\n",
       "      <td>-0.704149</td>\n",
       "      <td>-0.162751</td>\n",
       "      <td>-0.724176</td>\n",
       "      <td>-0.190915</td>\n",
       "      <td>-0.272108</td>\n",
       "      <td>-0.059496</td>\n",
       "      <td>-0.470018</td>\n",
       "      <td>-0.331414</td>\n",
       "    </tr>\n",
       "    <tr>\n",
       "      <th>8890</th>\n",
       "      <td>-1.670753</td>\n",
       "      <td>-0.162713</td>\n",
       "      <td>-0.724176</td>\n",
       "      <td>-0.190905</td>\n",
       "      <td>-0.272108</td>\n",
       "      <td>-0.059496</td>\n",
       "      <td>1.497220</td>\n",
       "      <td>-0.331414</td>\n",
       "    </tr>\n",
       "    <tr>\n",
       "      <th>8891</th>\n",
       "      <td>0.141629</td>\n",
       "      <td>-0.025636</td>\n",
       "      <td>0.066293</td>\n",
       "      <td>-0.075137</td>\n",
       "      <td>-0.272108</td>\n",
       "      <td>-0.059496</td>\n",
       "      <td>-0.470018</td>\n",
       "      <td>-0.331414</td>\n",
       "    </tr>\n",
       "  </tbody>\n",
       "</table>\n",
       "<p>8892 rows × 8 columns</p>\n",
       "</div>"
      ],
      "text/plain": [
       "             0         1         2         3         4         5         6  \\\n",
       "0    -2.033230 -0.162697  0.066293 -0.190800 -0.272108 -0.059496 -0.470018   \n",
       "1    -2.033230 -0.162419 -0.141725 -0.185127 -0.272108 -0.059496 -0.470018   \n",
       "2    -2.033230 -0.132627 -0.724176 -0.133026 -0.272108 -0.059496 -0.470018   \n",
       "3    -2.033230 -0.088517  0.315915  0.387981 -0.272108 -0.059496  2.480840   \n",
       "4    -2.033230 -0.162419 -0.724176 -0.189758 -0.272108 -0.059496 -0.470018   \n",
       "...        ...       ...       ...       ...       ...       ...       ...   \n",
       "8887 -0.704149 -0.162750 -0.724176 -0.190910 -0.272108 -0.059496 -0.470018   \n",
       "8888 -0.704149 -0.162739  1.480817 -0.190858 -0.272108 -0.059496 -0.470018   \n",
       "8889 -0.704149 -0.162751 -0.724176 -0.190915 -0.272108 -0.059496 -0.470018   \n",
       "8890 -1.670753 -0.162713 -0.724176 -0.190905 -0.272108 -0.059496  1.497220   \n",
       "8891  0.141629 -0.025636  0.066293 -0.075137 -0.272108 -0.059496 -0.470018   \n",
       "\n",
       "             7  \n",
       "0    -0.331414  \n",
       "1    -0.331414  \n",
       "2    -0.331414  \n",
       "3    -0.331414  \n",
       "4    -0.331414  \n",
       "...        ...  \n",
       "8887 -0.331414  \n",
       "8888 -0.331414  \n",
       "8889 -0.331414  \n",
       "8890 -0.331414  \n",
       "8891 -0.331414  \n",
       "\n",
       "[8892 rows x 8 columns]"
      ]
     },
     "execution_count": 216,
     "metadata": {},
     "output_type": "execute_result"
    }
   ],
   "source": [
    "ps_data"
   ]
  },
  {
   "cell_type": "markdown",
   "id": "c6964234",
   "metadata": {},
   "source": [
    "# Thankyou!"
   ]
  }
 ],
 "metadata": {
  "kernelspec": {
   "display_name": "Python 3 (ipykernel)",
   "language": "python",
   "name": "python3"
  },
  "language_info": {
   "codemirror_mode": {
    "name": "ipython",
    "version": 3
   },
   "file_extension": ".py",
   "mimetype": "text/x-python",
   "name": "python",
   "nbconvert_exporter": "python",
   "pygments_lexer": "ipython3",
   "version": "3.11.3"
  }
 },
 "nbformat": 4,
 "nbformat_minor": 5
}
